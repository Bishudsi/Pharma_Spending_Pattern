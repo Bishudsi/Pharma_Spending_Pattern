{
 "cells": [
  {
   "cell_type": "code",
   "execution_count": 14,
   "id": "1d315f4b",
   "metadata": {},
   "outputs": [],
   "source": [
    "import numpy as np\n",
    "import pandas as pd\n",
    "import seaborn as sns\n",
    "import plotly.express as px\n",
    "import math\n",
    "import matplotlib.pyplot as plt\n",
    "from sklearn.preprocessing import StandardScaler\n",
    "from sklearn.cluster import KMeans"
   ]
  },
  {
   "cell_type": "code",
   "execution_count": 15,
   "id": "c906b561",
   "metadata": {},
   "outputs": [
    {
     "name": "stderr",
     "output_type": "stream",
     "text": [
      "C:\\Users\\bmanna\\AppData\\Local\\Temp\\ipykernel_5872\\2481617357.py:14: FutureWarning:\n",
      "\n",
      "The behavior of DataFrame.idxmax with all-NA values, or any-NA and skipna=False, is deprecated. In a future version this will raise ValueError\n",
      "\n"
     ]
    }
   ],
   "source": [
    "#Read csv\n",
    "file_path = 'Cleaned_data_with_population.csv'\n",
    "\n",
    "df = pd.read_csv(file_path)\n",
    "\n",
    "# Sort by LOCATION and TIME for correct growth calculation\n",
    "df.sort_values(['LOCATION', 'TIME'], inplace=True)\n",
    "# Calculate growth rates for selected columns\n",
    "growth_columns = ['PC_HEALTHXP', 'PC_GDP', 'USD_CAP','TOTAL_SPEND','POPULATION']\n",
    "for col in growth_columns:\n",
    "    df[f'{col}_GROWTH'] = df.groupby('LOCATION')[col].pct_change()\n",
    "\n",
    "# Identify the column with the highest growth each year for each location\n",
    "df['HIGHEST_GROWTH_METRIC'] = df[[f'{col}_GROWTH' for col in growth_columns]].idxmax(axis=1)\n",
    "df['HIGHEST_GROWTH_VALUE'] = df[[f'{col}_GROWTH' for col in growth_columns]].max(axis=1)\n",
    "\n",
    "# Optional: clean the metric name (remove \"_GROWTH\" suffix)\n",
    "df['HIGHEST_GROWTH_METRIC'] = df['HIGHEST_GROWTH_METRIC'].str.replace('_GROWTH', '')\n",
    "\n",
    "# Save the result to csv\n",
    "df.to_csv('Cleaned_data_with_population_growth.csv', index=False)\n",
    "\n",
    "\n"
   ]
  },
  {
   "cell_type": "code",
   "execution_count": null,
   "id": "918ad5ee",
   "metadata": {},
   "outputs": [
    {
     "data": {
      "application/vnd.plotly.v1+json": {
       "config": {
        "plotlyServerURL": "https://plot.ly"
       },
       "data": [
        {
         "customdata": [
          [
           "AUS"
          ],
          [
           "AUT"
          ],
          [
           "BEL"
          ],
          [
           "CAN"
          ],
          [
           "CHE"
          ],
          [
           "CRI"
          ],
          [
           "DEU"
          ],
          [
           "DNK"
          ],
          [
           "ESP"
          ],
          [
           "FRA"
          ],
          [
           "GBR"
          ],
          [
           "GRC"
          ],
          [
           "HRV"
          ],
          [
           "HUN"
          ],
          [
           "IRL"
          ],
          [
           "ISL"
          ],
          [
           "ITA"
          ],
          [
           "JPN"
          ],
          [
           "KOR"
          ],
          [
           "MEX"
          ],
          [
           "NLD"
          ],
          [
           "NOR"
          ],
          [
           "POL"
          ],
          [
           "PRT"
          ],
          [
           "ROU"
          ],
          [
           "SVK"
          ],
          [
           "SWE"
          ],
          [
           "USA"
          ]
         ],
         "hovertemplate": "Country Type=Other<br>Avg Total Spend=%{x}<br>Avg USD_CAP Growth Rate=%{y}<br>LOCATION=%{customdata[0]}<extra></extra>",
         "legendgroup": "Other",
         "marker": {
          "color": "#20557b",
          "symbol": "circle"
         },
         "mode": "markers+text",
         "name": "Other",
         "orientation": "v",
         "showlegend": true,
         "text": [
          "AUS",
          "AUT",
          "BEL",
          "CAN",
          "CHE",
          "CRI",
          "DEU",
          "DNK",
          "ESP",
          "FRA",
          "GBR",
          "GRC",
          "HRV",
          "HUN",
          "IRL",
          "ISL",
          "ITA",
          "JPN",
          "KOR",
          "MEX",
          "NLD",
          "NOR",
          "POL",
          "PRT",
          "ROU",
          "SVK",
          "SWE",
          "USA"
         ],
         "textposition": "top center",
         "type": "scatter",
         "x": {
          "bdata": "5dAi26m9zEBg5dAie920QDiJQWAFvLlAvXSTGDw13EDiehSuRyK1QB1aZDvfnIhA9Shcj8aj70BSuB6Fa3udQDIIrBySI9ZAMgisHFIn5kDhehSu7XLeQJMYBFbuB7tAVg4tsh0ImUCyne+nJi62QL6fGi/dkKVA5tAi2/leZED4U+Ols/vgQLKd76fSYPlAUI2Xbsqs20BqvHST+HncQAaBlUNre7pAi2zn+2nnoUBCYOXQgo3NQKwcWmT76LFA8/3UeClCvkC0yHa+39qmQI6XbhJjl7NAUI2Xbr66FkE=",
          "dtype": "f8"
         },
         "xaxis": "x",
         "y": {
          "bdata": "50c+WMbrkj8LaEtq5Z+gP45prbU4mIk/a8mARapaiD+Lk7Udyg6kPwe+Ul7NFIa/oFK2OvfcpT9OxT0ZjeGNP+sFm1WN3Jo/5KvgXBb7lD9yrOZJRGyYP3J6sK9xoII/5HhWi7iCez/HdNG02e5iP/LWcDUGb3Y/OaCEhQj9bD/VE52k5a2RP9VRt59JSpc/Uq7smAiMqD8HTW4Avk2dP45LPvA7wEU/vNPI+ExylD/nlYeIKvqZPxwsf9mi1ZI/DASjkZ59rT9VBsQvn/qJv46RG1S1M5Q/+Yf+NTuWnz8=",
          "dtype": "f8"
         },
         "yaxis": "y"
        },
        {
         "customdata": [
          [
           "BGR"
          ],
          [
           "CYP"
          ],
          [
           "CZE"
          ],
          [
           "EST"
          ],
          [
           "FIN"
          ],
          [
           "ISR"
          ],
          [
           "LTU"
          ],
          [
           "LUX"
          ],
          [
           "LVA"
          ],
          [
           "SVN"
          ]
         ],
         "hovertemplate": "Country Type=Potential<br>Avg Total Spend=%{x}<br>Avg USD_CAP Growth Rate=%{y}<br>LOCATION=%{customdata[0]}<extra></extra>",
         "legendgroup": "Potential",
         "marker": {
          "color": "red",
          "symbol": "circle"
         },
         "mode": "markers+text",
         "name": "Potential",
         "orientation": "v",
         "showlegend": true,
         "text": [
          "BGR",
          "CYP",
          "CZE",
          "EST",
          "FIN",
          "ISR",
          "LTU",
          "LUX",
          "LVA",
          "SVN"
         ],
         "textposition": "top center",
         "type": "scatter",
         "x": {
          "bdata": "cF5NPCs7r0CAarx0kyR+QBKDwMphN7RAfmq8dJOQfUBqvHSTmHKlQMl2vp9aBaZA8KfGS7dOl0DiehSuRxV0QM73U+OluohA16NwPYqNkEA=",
          "dtype": "f8"
         },
         "xaxis": "x",
         "y": {
          "bdata": "kHtTNGdCqj9nk4dpBQWjP0sc3UzyzqA/rKB9womEqD9EUrHZ2lubPx6r/X+AY60/fK1VH2D9rD+X8BuoWnymP5znKYTH4bE/wGUP3RxInj8=",
          "dtype": "f8"
         },
         "yaxis": "y"
        }
       ],
       "layout": {
        "legend": {
         "title": {
          "text": "Target Country"
         },
         "tracegroupgap": 0
        },
        "template": {
         "data": {
          "bar": [
           {
            "error_x": {
             "color": "#2a3f5f"
            },
            "error_y": {
             "color": "#2a3f5f"
            },
            "marker": {
             "line": {
              "color": "#E5ECF6",
              "width": 0.5
             },
             "pattern": {
              "fillmode": "overlay",
              "size": 10,
              "solidity": 0.2
             }
            },
            "type": "bar"
           }
          ],
          "barpolar": [
           {
            "marker": {
             "line": {
              "color": "#E5ECF6",
              "width": 0.5
             },
             "pattern": {
              "fillmode": "overlay",
              "size": 10,
              "solidity": 0.2
             }
            },
            "type": "barpolar"
           }
          ],
          "carpet": [
           {
            "aaxis": {
             "endlinecolor": "#2a3f5f",
             "gridcolor": "white",
             "linecolor": "white",
             "minorgridcolor": "white",
             "startlinecolor": "#2a3f5f"
            },
            "baxis": {
             "endlinecolor": "#2a3f5f",
             "gridcolor": "white",
             "linecolor": "white",
             "minorgridcolor": "white",
             "startlinecolor": "#2a3f5f"
            },
            "type": "carpet"
           }
          ],
          "choropleth": [
           {
            "colorbar": {
             "outlinewidth": 0,
             "ticks": ""
            },
            "type": "choropleth"
           }
          ],
          "contour": [
           {
            "colorbar": {
             "outlinewidth": 0,
             "ticks": ""
            },
            "colorscale": [
             [
              0,
              "#0d0887"
             ],
             [
              0.1111111111111111,
              "#46039f"
             ],
             [
              0.2222222222222222,
              "#7201a8"
             ],
             [
              0.3333333333333333,
              "#9c179e"
             ],
             [
              0.4444444444444444,
              "#bd3786"
             ],
             [
              0.5555555555555556,
              "#d8576b"
             ],
             [
              0.6666666666666666,
              "#ed7953"
             ],
             [
              0.7777777777777778,
              "#fb9f3a"
             ],
             [
              0.8888888888888888,
              "#fdca26"
             ],
             [
              1,
              "#f0f921"
             ]
            ],
            "type": "contour"
           }
          ],
          "contourcarpet": [
           {
            "colorbar": {
             "outlinewidth": 0,
             "ticks": ""
            },
            "type": "contourcarpet"
           }
          ],
          "heatmap": [
           {
            "colorbar": {
             "outlinewidth": 0,
             "ticks": ""
            },
            "colorscale": [
             [
              0,
              "#0d0887"
             ],
             [
              0.1111111111111111,
              "#46039f"
             ],
             [
              0.2222222222222222,
              "#7201a8"
             ],
             [
              0.3333333333333333,
              "#9c179e"
             ],
             [
              0.4444444444444444,
              "#bd3786"
             ],
             [
              0.5555555555555556,
              "#d8576b"
             ],
             [
              0.6666666666666666,
              "#ed7953"
             ],
             [
              0.7777777777777778,
              "#fb9f3a"
             ],
             [
              0.8888888888888888,
              "#fdca26"
             ],
             [
              1,
              "#f0f921"
             ]
            ],
            "type": "heatmap"
           }
          ],
          "histogram": [
           {
            "marker": {
             "pattern": {
              "fillmode": "overlay",
              "size": 10,
              "solidity": 0.2
             }
            },
            "type": "histogram"
           }
          ],
          "histogram2d": [
           {
            "colorbar": {
             "outlinewidth": 0,
             "ticks": ""
            },
            "colorscale": [
             [
              0,
              "#0d0887"
             ],
             [
              0.1111111111111111,
              "#46039f"
             ],
             [
              0.2222222222222222,
              "#7201a8"
             ],
             [
              0.3333333333333333,
              "#9c179e"
             ],
             [
              0.4444444444444444,
              "#bd3786"
             ],
             [
              0.5555555555555556,
              "#d8576b"
             ],
             [
              0.6666666666666666,
              "#ed7953"
             ],
             [
              0.7777777777777778,
              "#fb9f3a"
             ],
             [
              0.8888888888888888,
              "#fdca26"
             ],
             [
              1,
              "#f0f921"
             ]
            ],
            "type": "histogram2d"
           }
          ],
          "histogram2dcontour": [
           {
            "colorbar": {
             "outlinewidth": 0,
             "ticks": ""
            },
            "colorscale": [
             [
              0,
              "#0d0887"
             ],
             [
              0.1111111111111111,
              "#46039f"
             ],
             [
              0.2222222222222222,
              "#7201a8"
             ],
             [
              0.3333333333333333,
              "#9c179e"
             ],
             [
              0.4444444444444444,
              "#bd3786"
             ],
             [
              0.5555555555555556,
              "#d8576b"
             ],
             [
              0.6666666666666666,
              "#ed7953"
             ],
             [
              0.7777777777777778,
              "#fb9f3a"
             ],
             [
              0.8888888888888888,
              "#fdca26"
             ],
             [
              1,
              "#f0f921"
             ]
            ],
            "type": "histogram2dcontour"
           }
          ],
          "mesh3d": [
           {
            "colorbar": {
             "outlinewidth": 0,
             "ticks": ""
            },
            "type": "mesh3d"
           }
          ],
          "parcoords": [
           {
            "line": {
             "colorbar": {
              "outlinewidth": 0,
              "ticks": ""
             }
            },
            "type": "parcoords"
           }
          ],
          "pie": [
           {
            "automargin": true,
            "type": "pie"
           }
          ],
          "scatter": [
           {
            "fillpattern": {
             "fillmode": "overlay",
             "size": 10,
             "solidity": 0.2
            },
            "type": "scatter"
           }
          ],
          "scatter3d": [
           {
            "line": {
             "colorbar": {
              "outlinewidth": 0,
              "ticks": ""
             }
            },
            "marker": {
             "colorbar": {
              "outlinewidth": 0,
              "ticks": ""
             }
            },
            "type": "scatter3d"
           }
          ],
          "scattercarpet": [
           {
            "marker": {
             "colorbar": {
              "outlinewidth": 0,
              "ticks": ""
             }
            },
            "type": "scattercarpet"
           }
          ],
          "scattergeo": [
           {
            "marker": {
             "colorbar": {
              "outlinewidth": 0,
              "ticks": ""
             }
            },
            "type": "scattergeo"
           }
          ],
          "scattergl": [
           {
            "marker": {
             "colorbar": {
              "outlinewidth": 0,
              "ticks": ""
             }
            },
            "type": "scattergl"
           }
          ],
          "scattermap": [
           {
            "marker": {
             "colorbar": {
              "outlinewidth": 0,
              "ticks": ""
             }
            },
            "type": "scattermap"
           }
          ],
          "scattermapbox": [
           {
            "marker": {
             "colorbar": {
              "outlinewidth": 0,
              "ticks": ""
             }
            },
            "type": "scattermapbox"
           }
          ],
          "scatterpolar": [
           {
            "marker": {
             "colorbar": {
              "outlinewidth": 0,
              "ticks": ""
             }
            },
            "type": "scatterpolar"
           }
          ],
          "scatterpolargl": [
           {
            "marker": {
             "colorbar": {
              "outlinewidth": 0,
              "ticks": ""
             }
            },
            "type": "scatterpolargl"
           }
          ],
          "scatterternary": [
           {
            "marker": {
             "colorbar": {
              "outlinewidth": 0,
              "ticks": ""
             }
            },
            "type": "scatterternary"
           }
          ],
          "surface": [
           {
            "colorbar": {
             "outlinewidth": 0,
             "ticks": ""
            },
            "colorscale": [
             [
              0,
              "#0d0887"
             ],
             [
              0.1111111111111111,
              "#46039f"
             ],
             [
              0.2222222222222222,
              "#7201a8"
             ],
             [
              0.3333333333333333,
              "#9c179e"
             ],
             [
              0.4444444444444444,
              "#bd3786"
             ],
             [
              0.5555555555555556,
              "#d8576b"
             ],
             [
              0.6666666666666666,
              "#ed7953"
             ],
             [
              0.7777777777777778,
              "#fb9f3a"
             ],
             [
              0.8888888888888888,
              "#fdca26"
             ],
             [
              1,
              "#f0f921"
             ]
            ],
            "type": "surface"
           }
          ],
          "table": [
           {
            "cells": {
             "fill": {
              "color": "#EBF0F8"
             },
             "line": {
              "color": "white"
             }
            },
            "header": {
             "fill": {
              "color": "#C8D4E3"
             },
             "line": {
              "color": "white"
             }
            },
            "type": "table"
           }
          ]
         },
         "layout": {
          "annotationdefaults": {
           "arrowcolor": "#2a3f5f",
           "arrowhead": 0,
           "arrowwidth": 1
          },
          "autotypenumbers": "strict",
          "coloraxis": {
           "colorbar": {
            "outlinewidth": 0,
            "ticks": ""
           }
          },
          "colorscale": {
           "diverging": [
            [
             0,
             "#8e0152"
            ],
            [
             0.1,
             "#c51b7d"
            ],
            [
             0.2,
             "#de77ae"
            ],
            [
             0.3,
             "#f1b6da"
            ],
            [
             0.4,
             "#fde0ef"
            ],
            [
             0.5,
             "#f7f7f7"
            ],
            [
             0.6,
             "#e6f5d0"
            ],
            [
             0.7,
             "#b8e186"
            ],
            [
             0.8,
             "#7fbc41"
            ],
            [
             0.9,
             "#4d9221"
            ],
            [
             1,
             "#276419"
            ]
           ],
           "sequential": [
            [
             0,
             "#0d0887"
            ],
            [
             0.1111111111111111,
             "#46039f"
            ],
            [
             0.2222222222222222,
             "#7201a8"
            ],
            [
             0.3333333333333333,
             "#9c179e"
            ],
            [
             0.4444444444444444,
             "#bd3786"
            ],
            [
             0.5555555555555556,
             "#d8576b"
            ],
            [
             0.6666666666666666,
             "#ed7953"
            ],
            [
             0.7777777777777778,
             "#fb9f3a"
            ],
            [
             0.8888888888888888,
             "#fdca26"
            ],
            [
             1,
             "#f0f921"
            ]
           ],
           "sequentialminus": [
            [
             0,
             "#0d0887"
            ],
            [
             0.1111111111111111,
             "#46039f"
            ],
            [
             0.2222222222222222,
             "#7201a8"
            ],
            [
             0.3333333333333333,
             "#9c179e"
            ],
            [
             0.4444444444444444,
             "#bd3786"
            ],
            [
             0.5555555555555556,
             "#d8576b"
            ],
            [
             0.6666666666666666,
             "#ed7953"
            ],
            [
             0.7777777777777778,
             "#fb9f3a"
            ],
            [
             0.8888888888888888,
             "#fdca26"
            ],
            [
             1,
             "#f0f921"
            ]
           ]
          },
          "colorway": [
           "#636efa",
           "#EF553B",
           "#00cc96",
           "#ab63fa",
           "#FFA15A",
           "#19d3f3",
           "#FF6692",
           "#B6E880",
           "#FF97FF",
           "#FECB52"
          ],
          "font": {
           "color": "#2a3f5f"
          },
          "geo": {
           "bgcolor": "white",
           "lakecolor": "white",
           "landcolor": "#E5ECF6",
           "showlakes": true,
           "showland": true,
           "subunitcolor": "white"
          },
          "hoverlabel": {
           "align": "left"
          },
          "hovermode": "closest",
          "mapbox": {
           "style": "light"
          },
          "paper_bgcolor": "white",
          "plot_bgcolor": "#E5ECF6",
          "polar": {
           "angularaxis": {
            "gridcolor": "white",
            "linecolor": "white",
            "ticks": ""
           },
           "bgcolor": "#E5ECF6",
           "radialaxis": {
            "gridcolor": "white",
            "linecolor": "white",
            "ticks": ""
           }
          },
          "scene": {
           "xaxis": {
            "backgroundcolor": "#E5ECF6",
            "gridcolor": "white",
            "gridwidth": 2,
            "linecolor": "white",
            "showbackground": true,
            "ticks": "",
            "zerolinecolor": "white"
           },
           "yaxis": {
            "backgroundcolor": "#E5ECF6",
            "gridcolor": "white",
            "gridwidth": 2,
            "linecolor": "white",
            "showbackground": true,
            "ticks": "",
            "zerolinecolor": "white"
           },
           "zaxis": {
            "backgroundcolor": "#E5ECF6",
            "gridcolor": "white",
            "gridwidth": 2,
            "linecolor": "white",
            "showbackground": true,
            "ticks": "",
            "zerolinecolor": "white"
           }
          },
          "shapedefaults": {
           "line": {
            "color": "#2a3f5f"
           }
          },
          "ternary": {
           "aaxis": {
            "gridcolor": "white",
            "linecolor": "white",
            "ticks": ""
           },
           "baxis": {
            "gridcolor": "white",
            "linecolor": "white",
            "ticks": ""
           },
           "bgcolor": "#E5ECF6",
           "caxis": {
            "gridcolor": "white",
            "linecolor": "white",
            "ticks": ""
           }
          },
          "title": {
           "x": 0.05
          },
          "xaxis": {
           "automargin": true,
           "gridcolor": "white",
           "linecolor": "white",
           "ticks": "",
           "title": {
            "standoff": 15
           },
           "zerolinecolor": "white",
           "zerolinewidth": 2
          },
          "yaxis": {
           "automargin": true,
           "gridcolor": "white",
           "linecolor": "white",
           "ticks": "",
           "title": {
            "standoff": 15
           },
           "zerolinecolor": "white",
           "zerolinewidth": 2
          }
         }
        },
        "title": {
         "text": "Countries with High USD_CAP Growth and Low Total Spend"
        },
        "xaxis": {
         "anchor": "y",
         "domain": [
          0,
          1
         ],
         "title": {
          "text": "Avg Total Spend"
         }
        },
        "yaxis": {
         "anchor": "x",
         "domain": [
          0,
          1
         ],
         "title": {
          "text": "Avg USD_CAP Growth Rate"
         }
        }
       }
      }
     },
     "metadata": {},
     "output_type": "display_data"
    },
    {
     "data": {
      "application/vnd.plotly.v1+json": {
       "config": {
        "plotlyServerURL": "https://plot.ly"
       },
       "data": [
        {
         "colorscale": [
          [
           0,
           "#ef98da"
          ],
          [
           1,
           "#ef98da"
          ]
         ],
         "customdata": {
          "bdata": "50c+WMbrkj/l0CLbqb3MQAtoS2rln6A/YOXQInvdtECOaa21OJiJPziJQWAFvLlAa8mARapaiD+9dJMYPDXcQIuTtR3KDqQ/4noUrkcitUAHvlJezRSGvx1aZDvfnIhAoFK2OvfcpT/1KFyPxqPvQE7FPRmN4Y0/UrgehWt7nUDrBZtVjdyaPzIIrBySI9ZA5KvgXBb7lD8yCKwcUifmQHKs5klEbJg/4XoUru1y3kByerCvcaCCP5MYBFbuB7tA5HhWi7iCez9WDi2yHQiZQMd00bTZ7mI/sp3vpyYutkDy1nA1Bm92P76fGi/dkKVAOaCEhQj9bD/m0CLb+V5kQNUTnaTlrZE/+FPjpbP74EDVUbefSUqXP7Kd76fSYPlAUq7smAiMqD9QjZduyqzbQAdNbgC+TZ0/arx0k/h53ECOSz7wO8BFPwaBlUNre7pAvNPI+ExylD+LbOf7aeehQOeVh4gq+pk/QmDl0IKNzUAcLH/ZotWSP6wcWmT76LFADASjkZ59rT/z/dR4KUK+QFUGxC+f+om/tMh2vt/apkCOkRtUtTOUP46XbhJjl7NA+Yf+NTuWnz9QjZduvroWQQ==",
          "dtype": "f8",
          "shape": "28, 2"
         },
         "geo": "geo",
         "hovertemplate": "<b>%{hovertext}</b><br><br>TARGET=Other<br>LOCATION=%{location}<br>AVG_USD_CAP_GROWTH=%{customdata[0]}<br>AVG_TOTAL_SPEND=%{customdata[1]}<extra></extra>",
         "hovertext": [
          "AUS",
          "AUT",
          "BEL",
          "CAN",
          "CHE",
          "CRI",
          "DEU",
          "DNK",
          "ESP",
          "FRA",
          "GBR",
          "GRC",
          "HRV",
          "HUN",
          "IRL",
          "ISL",
          "ITA",
          "JPN",
          "KOR",
          "MEX",
          "NLD",
          "NOR",
          "POL",
          "PRT",
          "ROU",
          "SVK",
          "SWE",
          "USA"
         ],
         "locationmode": "ISO-3",
         "locations": [
          "AUS",
          "AUT",
          "BEL",
          "CAN",
          "CHE",
          "CRI",
          "DEU",
          "DNK",
          "ESP",
          "FRA",
          "GBR",
          "GRC",
          "HRV",
          "HUN",
          "IRL",
          "ISL",
          "ITA",
          "JPN",
          "KOR",
          "MEX",
          "NLD",
          "NOR",
          "POL",
          "PRT",
          "ROU",
          "SVK",
          "SWE",
          "USA"
         ],
         "name": "Other",
         "showlegend": true,
         "showscale": false,
         "type": "choropleth",
         "z": [
          1,
          1,
          1,
          1,
          1,
          1,
          1,
          1,
          1,
          1,
          1,
          1,
          1,
          1,
          1,
          1,
          1,
          1,
          1,
          1,
          1,
          1,
          1,
          1,
          1,
          1,
          1,
          1
         ]
        },
        {
         "colorscale": [
          [
           0,
           "green"
          ],
          [
           1,
           "green"
          ]
         ],
         "customdata": {
          "bdata": "kHtTNGdCqj9wXk08KzuvQGeTh2kFBaM/gGq8dJMkfkBLHN1M8s6gPxKDwMphN7RArKB9womEqD9+arx0k5B9QERSsdnaW5s/arx0k5hypUAeq/1/gGOtP8l2vp9aBaZAfK1VH2D9rD/wp8ZLt06XQJfwG6hafKY/4noUrkcVdECc5ymEx+GxP873U+OluohAwGUP3RxInj/Xo3A9io2QQA==",
          "dtype": "f8",
          "shape": "10, 2"
         },
         "geo": "geo",
         "hovertemplate": "<b>%{hovertext}</b><br><br>TARGET=Potential<br>LOCATION=%{location}<br>AVG_USD_CAP_GROWTH=%{customdata[0]}<br>AVG_TOTAL_SPEND=%{customdata[1]}<extra></extra>",
         "hovertext": [
          "BGR",
          "CYP",
          "CZE",
          "EST",
          "FIN",
          "ISR",
          "LTU",
          "LUX",
          "LVA",
          "SVN"
         ],
         "locationmode": "ISO-3",
         "locations": [
          "BGR",
          "CYP",
          "CZE",
          "EST",
          "FIN",
          "ISR",
          "LTU",
          "LUX",
          "LVA",
          "SVN"
         ],
         "name": "Potential",
         "showlegend": true,
         "showscale": false,
         "type": "choropleth",
         "z": [
          1,
          1,
          1,
          1,
          1,
          1,
          1,
          1,
          1,
          1
         ]
        }
       ],
       "layout": {
        "geo": {
         "center": {},
         "domain": {
          "x": [
           0,
           1
          ],
          "y": [
           0,
           1
          ]
         },
         "showcoastlines": true,
         "showframe": false
        },
        "legend": {
         "title": {
          "text": "TARGET"
         },
         "tracegroupgap": 0
        },
        "template": {
         "data": {
          "bar": [
           {
            "error_x": {
             "color": "#2a3f5f"
            },
            "error_y": {
             "color": "#2a3f5f"
            },
            "marker": {
             "line": {
              "color": "#E5ECF6",
              "width": 0.5
             },
             "pattern": {
              "fillmode": "overlay",
              "size": 10,
              "solidity": 0.2
             }
            },
            "type": "bar"
           }
          ],
          "barpolar": [
           {
            "marker": {
             "line": {
              "color": "#E5ECF6",
              "width": 0.5
             },
             "pattern": {
              "fillmode": "overlay",
              "size": 10,
              "solidity": 0.2
             }
            },
            "type": "barpolar"
           }
          ],
          "carpet": [
           {
            "aaxis": {
             "endlinecolor": "#2a3f5f",
             "gridcolor": "white",
             "linecolor": "white",
             "minorgridcolor": "white",
             "startlinecolor": "#2a3f5f"
            },
            "baxis": {
             "endlinecolor": "#2a3f5f",
             "gridcolor": "white",
             "linecolor": "white",
             "minorgridcolor": "white",
             "startlinecolor": "#2a3f5f"
            },
            "type": "carpet"
           }
          ],
          "choropleth": [
           {
            "colorbar": {
             "outlinewidth": 0,
             "ticks": ""
            },
            "type": "choropleth"
           }
          ],
          "contour": [
           {
            "colorbar": {
             "outlinewidth": 0,
             "ticks": ""
            },
            "colorscale": [
             [
              0,
              "#0d0887"
             ],
             [
              0.1111111111111111,
              "#46039f"
             ],
             [
              0.2222222222222222,
              "#7201a8"
             ],
             [
              0.3333333333333333,
              "#9c179e"
             ],
             [
              0.4444444444444444,
              "#bd3786"
             ],
             [
              0.5555555555555556,
              "#d8576b"
             ],
             [
              0.6666666666666666,
              "#ed7953"
             ],
             [
              0.7777777777777778,
              "#fb9f3a"
             ],
             [
              0.8888888888888888,
              "#fdca26"
             ],
             [
              1,
              "#f0f921"
             ]
            ],
            "type": "contour"
           }
          ],
          "contourcarpet": [
           {
            "colorbar": {
             "outlinewidth": 0,
             "ticks": ""
            },
            "type": "contourcarpet"
           }
          ],
          "heatmap": [
           {
            "colorbar": {
             "outlinewidth": 0,
             "ticks": ""
            },
            "colorscale": [
             [
              0,
              "#0d0887"
             ],
             [
              0.1111111111111111,
              "#46039f"
             ],
             [
              0.2222222222222222,
              "#7201a8"
             ],
             [
              0.3333333333333333,
              "#9c179e"
             ],
             [
              0.4444444444444444,
              "#bd3786"
             ],
             [
              0.5555555555555556,
              "#d8576b"
             ],
             [
              0.6666666666666666,
              "#ed7953"
             ],
             [
              0.7777777777777778,
              "#fb9f3a"
             ],
             [
              0.8888888888888888,
              "#fdca26"
             ],
             [
              1,
              "#f0f921"
             ]
            ],
            "type": "heatmap"
           }
          ],
          "histogram": [
           {
            "marker": {
             "pattern": {
              "fillmode": "overlay",
              "size": 10,
              "solidity": 0.2
             }
            },
            "type": "histogram"
           }
          ],
          "histogram2d": [
           {
            "colorbar": {
             "outlinewidth": 0,
             "ticks": ""
            },
            "colorscale": [
             [
              0,
              "#0d0887"
             ],
             [
              0.1111111111111111,
              "#46039f"
             ],
             [
              0.2222222222222222,
              "#7201a8"
             ],
             [
              0.3333333333333333,
              "#9c179e"
             ],
             [
              0.4444444444444444,
              "#bd3786"
             ],
             [
              0.5555555555555556,
              "#d8576b"
             ],
             [
              0.6666666666666666,
              "#ed7953"
             ],
             [
              0.7777777777777778,
              "#fb9f3a"
             ],
             [
              0.8888888888888888,
              "#fdca26"
             ],
             [
              1,
              "#f0f921"
             ]
            ],
            "type": "histogram2d"
           }
          ],
          "histogram2dcontour": [
           {
            "colorbar": {
             "outlinewidth": 0,
             "ticks": ""
            },
            "colorscale": [
             [
              0,
              "#0d0887"
             ],
             [
              0.1111111111111111,
              "#46039f"
             ],
             [
              0.2222222222222222,
              "#7201a8"
             ],
             [
              0.3333333333333333,
              "#9c179e"
             ],
             [
              0.4444444444444444,
              "#bd3786"
             ],
             [
              0.5555555555555556,
              "#d8576b"
             ],
             [
              0.6666666666666666,
              "#ed7953"
             ],
             [
              0.7777777777777778,
              "#fb9f3a"
             ],
             [
              0.8888888888888888,
              "#fdca26"
             ],
             [
              1,
              "#f0f921"
             ]
            ],
            "type": "histogram2dcontour"
           }
          ],
          "mesh3d": [
           {
            "colorbar": {
             "outlinewidth": 0,
             "ticks": ""
            },
            "type": "mesh3d"
           }
          ],
          "parcoords": [
           {
            "line": {
             "colorbar": {
              "outlinewidth": 0,
              "ticks": ""
             }
            },
            "type": "parcoords"
           }
          ],
          "pie": [
           {
            "automargin": true,
            "type": "pie"
           }
          ],
          "scatter": [
           {
            "fillpattern": {
             "fillmode": "overlay",
             "size": 10,
             "solidity": 0.2
            },
            "type": "scatter"
           }
          ],
          "scatter3d": [
           {
            "line": {
             "colorbar": {
              "outlinewidth": 0,
              "ticks": ""
             }
            },
            "marker": {
             "colorbar": {
              "outlinewidth": 0,
              "ticks": ""
             }
            },
            "type": "scatter3d"
           }
          ],
          "scattercarpet": [
           {
            "marker": {
             "colorbar": {
              "outlinewidth": 0,
              "ticks": ""
             }
            },
            "type": "scattercarpet"
           }
          ],
          "scattergeo": [
           {
            "marker": {
             "colorbar": {
              "outlinewidth": 0,
              "ticks": ""
             }
            },
            "type": "scattergeo"
           }
          ],
          "scattergl": [
           {
            "marker": {
             "colorbar": {
              "outlinewidth": 0,
              "ticks": ""
             }
            },
            "type": "scattergl"
           }
          ],
          "scattermap": [
           {
            "marker": {
             "colorbar": {
              "outlinewidth": 0,
              "ticks": ""
             }
            },
            "type": "scattermap"
           }
          ],
          "scattermapbox": [
           {
            "marker": {
             "colorbar": {
              "outlinewidth": 0,
              "ticks": ""
             }
            },
            "type": "scattermapbox"
           }
          ],
          "scatterpolar": [
           {
            "marker": {
             "colorbar": {
              "outlinewidth": 0,
              "ticks": ""
             }
            },
            "type": "scatterpolar"
           }
          ],
          "scatterpolargl": [
           {
            "marker": {
             "colorbar": {
              "outlinewidth": 0,
              "ticks": ""
             }
            },
            "type": "scatterpolargl"
           }
          ],
          "scatterternary": [
           {
            "marker": {
             "colorbar": {
              "outlinewidth": 0,
              "ticks": ""
             }
            },
            "type": "scatterternary"
           }
          ],
          "surface": [
           {
            "colorbar": {
             "outlinewidth": 0,
             "ticks": ""
            },
            "colorscale": [
             [
              0,
              "#0d0887"
             ],
             [
              0.1111111111111111,
              "#46039f"
             ],
             [
              0.2222222222222222,
              "#7201a8"
             ],
             [
              0.3333333333333333,
              "#9c179e"
             ],
             [
              0.4444444444444444,
              "#bd3786"
             ],
             [
              0.5555555555555556,
              "#d8576b"
             ],
             [
              0.6666666666666666,
              "#ed7953"
             ],
             [
              0.7777777777777778,
              "#fb9f3a"
             ],
             [
              0.8888888888888888,
              "#fdca26"
             ],
             [
              1,
              "#f0f921"
             ]
            ],
            "type": "surface"
           }
          ],
          "table": [
           {
            "cells": {
             "fill": {
              "color": "#EBF0F8"
             },
             "line": {
              "color": "white"
             }
            },
            "header": {
             "fill": {
              "color": "#C8D4E3"
             },
             "line": {
              "color": "white"
             }
            },
            "type": "table"
           }
          ]
         },
         "layout": {
          "annotationdefaults": {
           "arrowcolor": "#2a3f5f",
           "arrowhead": 0,
           "arrowwidth": 1
          },
          "autotypenumbers": "strict",
          "coloraxis": {
           "colorbar": {
            "outlinewidth": 0,
            "ticks": ""
           }
          },
          "colorscale": {
           "diverging": [
            [
             0,
             "#8e0152"
            ],
            [
             0.1,
             "#c51b7d"
            ],
            [
             0.2,
             "#de77ae"
            ],
            [
             0.3,
             "#f1b6da"
            ],
            [
             0.4,
             "#fde0ef"
            ],
            [
             0.5,
             "#f7f7f7"
            ],
            [
             0.6,
             "#e6f5d0"
            ],
            [
             0.7,
             "#b8e186"
            ],
            [
             0.8,
             "#7fbc41"
            ],
            [
             0.9,
             "#4d9221"
            ],
            [
             1,
             "#276419"
            ]
           ],
           "sequential": [
            [
             0,
             "#0d0887"
            ],
            [
             0.1111111111111111,
             "#46039f"
            ],
            [
             0.2222222222222222,
             "#7201a8"
            ],
            [
             0.3333333333333333,
             "#9c179e"
            ],
            [
             0.4444444444444444,
             "#bd3786"
            ],
            [
             0.5555555555555556,
             "#d8576b"
            ],
            [
             0.6666666666666666,
             "#ed7953"
            ],
            [
             0.7777777777777778,
             "#fb9f3a"
            ],
            [
             0.8888888888888888,
             "#fdca26"
            ],
            [
             1,
             "#f0f921"
            ]
           ],
           "sequentialminus": [
            [
             0,
             "#0d0887"
            ],
            [
             0.1111111111111111,
             "#46039f"
            ],
            [
             0.2222222222222222,
             "#7201a8"
            ],
            [
             0.3333333333333333,
             "#9c179e"
            ],
            [
             0.4444444444444444,
             "#bd3786"
            ],
            [
             0.5555555555555556,
             "#d8576b"
            ],
            [
             0.6666666666666666,
             "#ed7953"
            ],
            [
             0.7777777777777778,
             "#fb9f3a"
            ],
            [
             0.8888888888888888,
             "#fdca26"
            ],
            [
             1,
             "#f0f921"
            ]
           ]
          },
          "colorway": [
           "#636efa",
           "#EF553B",
           "#00cc96",
           "#ab63fa",
           "#FFA15A",
           "#19d3f3",
           "#FF6692",
           "#B6E880",
           "#FF97FF",
           "#FECB52"
          ],
          "font": {
           "color": "#2a3f5f"
          },
          "geo": {
           "bgcolor": "white",
           "lakecolor": "white",
           "landcolor": "#E5ECF6",
           "showlakes": true,
           "showland": true,
           "subunitcolor": "white"
          },
          "hoverlabel": {
           "align": "left"
          },
          "hovermode": "closest",
          "mapbox": {
           "style": "light"
          },
          "paper_bgcolor": "white",
          "plot_bgcolor": "#E5ECF6",
          "polar": {
           "angularaxis": {
            "gridcolor": "white",
            "linecolor": "white",
            "ticks": ""
           },
           "bgcolor": "#E5ECF6",
           "radialaxis": {
            "gridcolor": "white",
            "linecolor": "white",
            "ticks": ""
           }
          },
          "scene": {
           "xaxis": {
            "backgroundcolor": "#E5ECF6",
            "gridcolor": "white",
            "gridwidth": 2,
            "linecolor": "white",
            "showbackground": true,
            "ticks": "",
            "zerolinecolor": "white"
           },
           "yaxis": {
            "backgroundcolor": "#E5ECF6",
            "gridcolor": "white",
            "gridwidth": 2,
            "linecolor": "white",
            "showbackground": true,
            "ticks": "",
            "zerolinecolor": "white"
           },
           "zaxis": {
            "backgroundcolor": "#E5ECF6",
            "gridcolor": "white",
            "gridwidth": 2,
            "linecolor": "white",
            "showbackground": true,
            "ticks": "",
            "zerolinecolor": "white"
           }
          },
          "shapedefaults": {
           "line": {
            "color": "#2a3f5f"
           }
          },
          "ternary": {
           "aaxis": {
            "gridcolor": "white",
            "linecolor": "white",
            "ticks": ""
           },
           "baxis": {
            "gridcolor": "white",
            "linecolor": "white",
            "ticks": ""
           },
           "bgcolor": "#E5ECF6",
           "caxis": {
            "gridcolor": "white",
            "linecolor": "white",
            "ticks": ""
           }
          },
          "title": {
           "x": 0.05
          },
          "xaxis": {
           "automargin": true,
           "gridcolor": "white",
           "linecolor": "white",
           "ticks": "",
           "title": {
            "standoff": 15
           },
           "zerolinecolor": "white",
           "zerolinewidth": 2
          },
          "yaxis": {
           "automargin": true,
           "gridcolor": "white",
           "linecolor": "white",
           "ticks": "",
           "title": {
            "standoff": 15
           },
           "zerolinecolor": "white",
           "zerolinewidth": 2
          }
         }
        },
        "title": {
         "text": "Countries with High USD_CAP Growth and Low Total Spend"
        }
       }
      }
     },
     "metadata": {},
     "output_type": "display_data"
    }
   ],
   "source": [
    "# Calculate average growth and total spend per location\n",
    "summary = df.groupby('LOCATION').agg({\n",
    "    'USD_CAP_GROWTH': 'mean',\n",
    "    'TOTAL_SPEND': 'mean'\n",
    "}).reset_index()\n",
    "\n",
    "# Rename for clarity\n",
    "summary.rename(columns={\n",
    "    'USD_CAP_GROWTH': 'AVG_USD_CAP_GROWTH',\n",
    "    'TOTAL_SPEND': 'AVG_TOTAL_SPEND'\n",
    "}, inplace=True)\n",
    "\n",
    "# Determine thresholds (top 25% for growth, bottom 25% for spend)\n",
    "growth_threshold = summary['AVG_USD_CAP_GROWTH'].quantile(0.75)\n",
    "spend_threshold = summary['AVG_TOTAL_SPEND'].quantile(0.25)\n",
    "\n",
    "# Identify countries of interest\n",
    "summary[\"TARGET\"] = summary.apply(\n",
    "    lambda row: \"Potential\" if (row[\"AVG_USD_CAP_GROWTH\"] >= growth_threshold and row[\"AVG_TOTAL_SPEND\"] <= spend_threshold)\n",
    "    else \"Other\",\n",
    "    axis=1\n",
    ")\n",
    "\n",
    "# Interactive Plotly scatter plot\n",
    "fig = px.scatter(\n",
    "    summary,\n",
    "    x=\"AVG_TOTAL_SPEND\",\n",
    "    y=\"AVG_USD_CAP_GROWTH\",\n",
    "    color=\"TARGET\",\n",
    "    text=\"LOCATION\",\n",
    "    hover_data=[\"LOCATION\", \"AVG_USD_CAP_GROWTH\", \"AVG_TOTAL_SPEND\"],\n",
    "    color_discrete_map={\"Potential\": \"red\", \"Other\": \"#20557b\"},\n",
    "    labels={\n",
    "        \"AVG_TOTAL_SPEND\": \"Avg Total Spend\",\n",
    "        \"AVG_USD_CAP_GROWTH\": \"Avg USD_CAP Growth Rate\",\n",
    "        \"TARGET\": \"Country Type\"\n",
    "    },\n",
    "    title=\"Countries with High USD_CAP Growth and Low Total Spend\"\n",
    ")\n",
    "\n",
    "# Improve layout\n",
    "fig.update_traces(textposition='top center')\n",
    "fig.update_layout(legend=dict(title=\"Target Country\"))\n",
    "fig.show()\n",
    "\n",
    "# Create interactive Choropleth map\n",
    "fig = px.choropleth(\n",
    "    summary,\n",
    "    locations=\"LOCATION\",\n",
    "    color=\"TARGET\",\n",
    "    locationmode=\"ISO-3\",\n",
    "    hover_name=\"LOCATION\",\n",
    "    hover_data={\"AVG_USD_CAP_GROWTH\": True, \"AVG_TOTAL_SPEND\": True},\n",
    "    color_discrete_map={\"Potential\": \"green\", \"Other\": \"#ef98da\"},\n",
    "    title=\"Countries with High USD_CAP Growth and Low Total Spend\"\n",
    ")\n",
    "\n",
    "fig.update_layout(geo=dict(showframe=False, showcoastlines=True))\n",
    "fig.show()\n",
    "\n"
   ]
  },
  {
   "cell_type": "code",
   "execution_count": 36,
   "id": "713a2c89",
   "metadata": {},
   "outputs": [
    {
     "data": {
      "application/vnd.plotly.v1+json": {
       "config": {
        "plotlyServerURL": "https://plot.ly"
       },
       "data": [
        {
         "colorscale": [
          [
           0,
           "#ef98da"
          ],
          [
           1,
           "#ef98da"
          ]
         ],
         "customdata": {
          "bdata": "50c+WMbrkj/l0CLbqb3MQI5prbU4mIk/OIlBYAW8uUBryYBFqlqIP710kxg8NdxAB75SXs0Uhr8dWmQ735yIQKBStjr33KU/9Shcj8aj70BOxT0ZjeGNP1K4HoVre51A6wWbVY3cmj8yCKwckiPWQOSr4FwW+5Q/MgisHFIn5kByrOZJRGyYP+F6FK7tct5Acnqwr3Gggj+TGARW7ge7QOR4Vou4gns/Vg4tsh0ImUDHdNG02e5iP7Kd76cmLrZA8tZwNQZvdj++nxov3ZClQDmghIUI/Ww/5tAi2/leZEDVE52k5a2RP/hT46Wz++BA1VG3n0lKlz+yne+n0mD5QFKu7JgIjKg/UI2Xbsqs20AHTW4Avk2dP2q8dJP4edxAjks+8DvART8GgZVDa3u6QOeVh4gq+pk/QmDl0IKNzUAcLH/ZotWSP6wcWmT76LFADASjkZ59rT/z/dR4KUK+QFUGxC+f+om/tMh2vt/apkCOkRtUtTOUP46XbhJjl7NA+Yf+NTuWnz9QjZduvroWQQ==",
          "dtype": "f8",
          "shape": "25, 2"
         },
         "geo": "geo",
         "hovertemplate": "<b>%{hovertext}</b><br><br>TARGET=Low Potential<br>LOCATION=%{location}<br>AVG_USD_CAP_GROWTH=%{customdata[0]}<br>AVG_TOTAL_SPEND=%{customdata[1]}<extra></extra>",
         "hovertext": [
          "AUS",
          "BEL",
          "CAN",
          "CRI",
          "DEU",
          "DNK",
          "ESP",
          "FRA",
          "GBR",
          "GRC",
          "HRV",
          "HUN",
          "IRL",
          "ISL",
          "ITA",
          "JPN",
          "KOR",
          "MEX",
          "NLD",
          "POL",
          "PRT",
          "ROU",
          "SVK",
          "SWE",
          "USA"
         ],
         "locationmode": "ISO-3",
         "locations": [
          "AUS",
          "BEL",
          "CAN",
          "CRI",
          "DEU",
          "DNK",
          "ESP",
          "FRA",
          "GBR",
          "GRC",
          "HRV",
          "HUN",
          "IRL",
          "ISL",
          "ITA",
          "JPN",
          "KOR",
          "MEX",
          "NLD",
          "POL",
          "PRT",
          "ROU",
          "SVK",
          "SWE",
          "USA"
         ],
         "name": "Low Potential",
         "showlegend": true,
         "showscale": false,
         "type": "choropleth",
         "z": [
          1,
          1,
          1,
          1,
          1,
          1,
          1,
          1,
          1,
          1,
          1,
          1,
          1,
          1,
          1,
          1,
          1,
          1,
          1,
          1,
          1,
          1,
          1,
          1,
          1
         ]
        },
        {
         "colorscale": [
          [
           0,
           "#efe298"
          ],
          [
           1,
           "#efe298"
          ]
         ],
         "customdata": {
          "bdata": "C2hLauWfoD9g5dAie920QJB7UzRnQqo/cF5NPCs7r0CLk7Udyg6kP+J6FK5HIrVASxzdTPLOoD8Sg8DKYTe0QERSsdnaW5s/arx0k5hypUAeq/1/gGOtP8l2vp9aBaZAvNPI+ExylD+LbOf7aeehQMBlD90cSJ4/16NwPYqNkEA=",
          "dtype": "f8",
          "shape": "8, 2"
         },
         "geo": "geo",
         "hovertemplate": "<b>%{hovertext}</b><br><br>TARGET=Medium Potential<br>LOCATION=%{location}<br>AVG_USD_CAP_GROWTH=%{customdata[0]}<br>AVG_TOTAL_SPEND=%{customdata[1]}<extra></extra>",
         "hovertext": [
          "AUT",
          "BGR",
          "CHE",
          "CZE",
          "FIN",
          "ISR",
          "NOR",
          "SVN"
         ],
         "locationmode": "ISO-3",
         "locations": [
          "AUT",
          "BGR",
          "CHE",
          "CZE",
          "FIN",
          "ISR",
          "NOR",
          "SVN"
         ],
         "name": "Medium Potential",
         "showlegend": true,
         "showscale": false,
         "type": "choropleth",
         "z": [
          1,
          1,
          1,
          1,
          1,
          1,
          1,
          1
         ]
        },
        {
         "colorscale": [
          [
           0,
           "green"
          ],
          [
           1,
           "green"
          ]
         ],
         "customdata": {
          "bdata": "Z5OHaQUFoz+Aarx0kyR+QKygfcKJhKg/fmq8dJOQfUB8rVUfYP2sP/Cnxku3TpdAl/AbqFp8pj/iehSuRxV0QJznKYTH4bE/zvdT46W6iEA=",
          "dtype": "f8",
          "shape": "5, 2"
         },
         "geo": "geo",
         "hovertemplate": "<b>%{hovertext}</b><br><br>TARGET=High Potential<br>LOCATION=%{location}<br>AVG_USD_CAP_GROWTH=%{customdata[0]}<br>AVG_TOTAL_SPEND=%{customdata[1]}<extra></extra>",
         "hovertext": [
          "CYP",
          "EST",
          "LTU",
          "LUX",
          "LVA"
         ],
         "locationmode": "ISO-3",
         "locations": [
          "CYP",
          "EST",
          "LTU",
          "LUX",
          "LVA"
         ],
         "name": "High Potential",
         "showlegend": true,
         "showscale": false,
         "type": "choropleth",
         "z": [
          1,
          1,
          1,
          1,
          1
         ]
        }
       ],
       "layout": {
        "geo": {
         "center": {},
         "domain": {
          "x": [
           0,
           1
          ],
          "y": [
           0,
           1
          ]
         },
         "showcoastlines": true,
         "showframe": false
        },
        "legend": {
         "title": {
          "text": "TARGET"
         },
         "tracegroupgap": 0
        },
        "template": {
         "data": {
          "bar": [
           {
            "error_x": {
             "color": "#2a3f5f"
            },
            "error_y": {
             "color": "#2a3f5f"
            },
            "marker": {
             "line": {
              "color": "#E5ECF6",
              "width": 0.5
             },
             "pattern": {
              "fillmode": "overlay",
              "size": 10,
              "solidity": 0.2
             }
            },
            "type": "bar"
           }
          ],
          "barpolar": [
           {
            "marker": {
             "line": {
              "color": "#E5ECF6",
              "width": 0.5
             },
             "pattern": {
              "fillmode": "overlay",
              "size": 10,
              "solidity": 0.2
             }
            },
            "type": "barpolar"
           }
          ],
          "carpet": [
           {
            "aaxis": {
             "endlinecolor": "#2a3f5f",
             "gridcolor": "white",
             "linecolor": "white",
             "minorgridcolor": "white",
             "startlinecolor": "#2a3f5f"
            },
            "baxis": {
             "endlinecolor": "#2a3f5f",
             "gridcolor": "white",
             "linecolor": "white",
             "minorgridcolor": "white",
             "startlinecolor": "#2a3f5f"
            },
            "type": "carpet"
           }
          ],
          "choropleth": [
           {
            "colorbar": {
             "outlinewidth": 0,
             "ticks": ""
            },
            "type": "choropleth"
           }
          ],
          "contour": [
           {
            "colorbar": {
             "outlinewidth": 0,
             "ticks": ""
            },
            "colorscale": [
             [
              0,
              "#0d0887"
             ],
             [
              0.1111111111111111,
              "#46039f"
             ],
             [
              0.2222222222222222,
              "#7201a8"
             ],
             [
              0.3333333333333333,
              "#9c179e"
             ],
             [
              0.4444444444444444,
              "#bd3786"
             ],
             [
              0.5555555555555556,
              "#d8576b"
             ],
             [
              0.6666666666666666,
              "#ed7953"
             ],
             [
              0.7777777777777778,
              "#fb9f3a"
             ],
             [
              0.8888888888888888,
              "#fdca26"
             ],
             [
              1,
              "#f0f921"
             ]
            ],
            "type": "contour"
           }
          ],
          "contourcarpet": [
           {
            "colorbar": {
             "outlinewidth": 0,
             "ticks": ""
            },
            "type": "contourcarpet"
           }
          ],
          "heatmap": [
           {
            "colorbar": {
             "outlinewidth": 0,
             "ticks": ""
            },
            "colorscale": [
             [
              0,
              "#0d0887"
             ],
             [
              0.1111111111111111,
              "#46039f"
             ],
             [
              0.2222222222222222,
              "#7201a8"
             ],
             [
              0.3333333333333333,
              "#9c179e"
             ],
             [
              0.4444444444444444,
              "#bd3786"
             ],
             [
              0.5555555555555556,
              "#d8576b"
             ],
             [
              0.6666666666666666,
              "#ed7953"
             ],
             [
              0.7777777777777778,
              "#fb9f3a"
             ],
             [
              0.8888888888888888,
              "#fdca26"
             ],
             [
              1,
              "#f0f921"
             ]
            ],
            "type": "heatmap"
           }
          ],
          "histogram": [
           {
            "marker": {
             "pattern": {
              "fillmode": "overlay",
              "size": 10,
              "solidity": 0.2
             }
            },
            "type": "histogram"
           }
          ],
          "histogram2d": [
           {
            "colorbar": {
             "outlinewidth": 0,
             "ticks": ""
            },
            "colorscale": [
             [
              0,
              "#0d0887"
             ],
             [
              0.1111111111111111,
              "#46039f"
             ],
             [
              0.2222222222222222,
              "#7201a8"
             ],
             [
              0.3333333333333333,
              "#9c179e"
             ],
             [
              0.4444444444444444,
              "#bd3786"
             ],
             [
              0.5555555555555556,
              "#d8576b"
             ],
             [
              0.6666666666666666,
              "#ed7953"
             ],
             [
              0.7777777777777778,
              "#fb9f3a"
             ],
             [
              0.8888888888888888,
              "#fdca26"
             ],
             [
              1,
              "#f0f921"
             ]
            ],
            "type": "histogram2d"
           }
          ],
          "histogram2dcontour": [
           {
            "colorbar": {
             "outlinewidth": 0,
             "ticks": ""
            },
            "colorscale": [
             [
              0,
              "#0d0887"
             ],
             [
              0.1111111111111111,
              "#46039f"
             ],
             [
              0.2222222222222222,
              "#7201a8"
             ],
             [
              0.3333333333333333,
              "#9c179e"
             ],
             [
              0.4444444444444444,
              "#bd3786"
             ],
             [
              0.5555555555555556,
              "#d8576b"
             ],
             [
              0.6666666666666666,
              "#ed7953"
             ],
             [
              0.7777777777777778,
              "#fb9f3a"
             ],
             [
              0.8888888888888888,
              "#fdca26"
             ],
             [
              1,
              "#f0f921"
             ]
            ],
            "type": "histogram2dcontour"
           }
          ],
          "mesh3d": [
           {
            "colorbar": {
             "outlinewidth": 0,
             "ticks": ""
            },
            "type": "mesh3d"
           }
          ],
          "parcoords": [
           {
            "line": {
             "colorbar": {
              "outlinewidth": 0,
              "ticks": ""
             }
            },
            "type": "parcoords"
           }
          ],
          "pie": [
           {
            "automargin": true,
            "type": "pie"
           }
          ],
          "scatter": [
           {
            "fillpattern": {
             "fillmode": "overlay",
             "size": 10,
             "solidity": 0.2
            },
            "type": "scatter"
           }
          ],
          "scatter3d": [
           {
            "line": {
             "colorbar": {
              "outlinewidth": 0,
              "ticks": ""
             }
            },
            "marker": {
             "colorbar": {
              "outlinewidth": 0,
              "ticks": ""
             }
            },
            "type": "scatter3d"
           }
          ],
          "scattercarpet": [
           {
            "marker": {
             "colorbar": {
              "outlinewidth": 0,
              "ticks": ""
             }
            },
            "type": "scattercarpet"
           }
          ],
          "scattergeo": [
           {
            "marker": {
             "colorbar": {
              "outlinewidth": 0,
              "ticks": ""
             }
            },
            "type": "scattergeo"
           }
          ],
          "scattergl": [
           {
            "marker": {
             "colorbar": {
              "outlinewidth": 0,
              "ticks": ""
             }
            },
            "type": "scattergl"
           }
          ],
          "scattermap": [
           {
            "marker": {
             "colorbar": {
              "outlinewidth": 0,
              "ticks": ""
             }
            },
            "type": "scattermap"
           }
          ],
          "scattermapbox": [
           {
            "marker": {
             "colorbar": {
              "outlinewidth": 0,
              "ticks": ""
             }
            },
            "type": "scattermapbox"
           }
          ],
          "scatterpolar": [
           {
            "marker": {
             "colorbar": {
              "outlinewidth": 0,
              "ticks": ""
             }
            },
            "type": "scatterpolar"
           }
          ],
          "scatterpolargl": [
           {
            "marker": {
             "colorbar": {
              "outlinewidth": 0,
              "ticks": ""
             }
            },
            "type": "scatterpolargl"
           }
          ],
          "scatterternary": [
           {
            "marker": {
             "colorbar": {
              "outlinewidth": 0,
              "ticks": ""
             }
            },
            "type": "scatterternary"
           }
          ],
          "surface": [
           {
            "colorbar": {
             "outlinewidth": 0,
             "ticks": ""
            },
            "colorscale": [
             [
              0,
              "#0d0887"
             ],
             [
              0.1111111111111111,
              "#46039f"
             ],
             [
              0.2222222222222222,
              "#7201a8"
             ],
             [
              0.3333333333333333,
              "#9c179e"
             ],
             [
              0.4444444444444444,
              "#bd3786"
             ],
             [
              0.5555555555555556,
              "#d8576b"
             ],
             [
              0.6666666666666666,
              "#ed7953"
             ],
             [
              0.7777777777777778,
              "#fb9f3a"
             ],
             [
              0.8888888888888888,
              "#fdca26"
             ],
             [
              1,
              "#f0f921"
             ]
            ],
            "type": "surface"
           }
          ],
          "table": [
           {
            "cells": {
             "fill": {
              "color": "#EBF0F8"
             },
             "line": {
              "color": "white"
             }
            },
            "header": {
             "fill": {
              "color": "#C8D4E3"
             },
             "line": {
              "color": "white"
             }
            },
            "type": "table"
           }
          ]
         },
         "layout": {
          "annotationdefaults": {
           "arrowcolor": "#2a3f5f",
           "arrowhead": 0,
           "arrowwidth": 1
          },
          "autotypenumbers": "strict",
          "coloraxis": {
           "colorbar": {
            "outlinewidth": 0,
            "ticks": ""
           }
          },
          "colorscale": {
           "diverging": [
            [
             0,
             "#8e0152"
            ],
            [
             0.1,
             "#c51b7d"
            ],
            [
             0.2,
             "#de77ae"
            ],
            [
             0.3,
             "#f1b6da"
            ],
            [
             0.4,
             "#fde0ef"
            ],
            [
             0.5,
             "#f7f7f7"
            ],
            [
             0.6,
             "#e6f5d0"
            ],
            [
             0.7,
             "#b8e186"
            ],
            [
             0.8,
             "#7fbc41"
            ],
            [
             0.9,
             "#4d9221"
            ],
            [
             1,
             "#276419"
            ]
           ],
           "sequential": [
            [
             0,
             "#0d0887"
            ],
            [
             0.1111111111111111,
             "#46039f"
            ],
            [
             0.2222222222222222,
             "#7201a8"
            ],
            [
             0.3333333333333333,
             "#9c179e"
            ],
            [
             0.4444444444444444,
             "#bd3786"
            ],
            [
             0.5555555555555556,
             "#d8576b"
            ],
            [
             0.6666666666666666,
             "#ed7953"
            ],
            [
             0.7777777777777778,
             "#fb9f3a"
            ],
            [
             0.8888888888888888,
             "#fdca26"
            ],
            [
             1,
             "#f0f921"
            ]
           ],
           "sequentialminus": [
            [
             0,
             "#0d0887"
            ],
            [
             0.1111111111111111,
             "#46039f"
            ],
            [
             0.2222222222222222,
             "#7201a8"
            ],
            [
             0.3333333333333333,
             "#9c179e"
            ],
            [
             0.4444444444444444,
             "#bd3786"
            ],
            [
             0.5555555555555556,
             "#d8576b"
            ],
            [
             0.6666666666666666,
             "#ed7953"
            ],
            [
             0.7777777777777778,
             "#fb9f3a"
            ],
            [
             0.8888888888888888,
             "#fdca26"
            ],
            [
             1,
             "#f0f921"
            ]
           ]
          },
          "colorway": [
           "#636efa",
           "#EF553B",
           "#00cc96",
           "#ab63fa",
           "#FFA15A",
           "#19d3f3",
           "#FF6692",
           "#B6E880",
           "#FF97FF",
           "#FECB52"
          ],
          "font": {
           "color": "#2a3f5f"
          },
          "geo": {
           "bgcolor": "white",
           "lakecolor": "white",
           "landcolor": "#E5ECF6",
           "showlakes": true,
           "showland": true,
           "subunitcolor": "white"
          },
          "hoverlabel": {
           "align": "left"
          },
          "hovermode": "closest",
          "mapbox": {
           "style": "light"
          },
          "paper_bgcolor": "white",
          "plot_bgcolor": "#E5ECF6",
          "polar": {
           "angularaxis": {
            "gridcolor": "white",
            "linecolor": "white",
            "ticks": ""
           },
           "bgcolor": "#E5ECF6",
           "radialaxis": {
            "gridcolor": "white",
            "linecolor": "white",
            "ticks": ""
           }
          },
          "scene": {
           "xaxis": {
            "backgroundcolor": "#E5ECF6",
            "gridcolor": "white",
            "gridwidth": 2,
            "linecolor": "white",
            "showbackground": true,
            "ticks": "",
            "zerolinecolor": "white"
           },
           "yaxis": {
            "backgroundcolor": "#E5ECF6",
            "gridcolor": "white",
            "gridwidth": 2,
            "linecolor": "white",
            "showbackground": true,
            "ticks": "",
            "zerolinecolor": "white"
           },
           "zaxis": {
            "backgroundcolor": "#E5ECF6",
            "gridcolor": "white",
            "gridwidth": 2,
            "linecolor": "white",
            "showbackground": true,
            "ticks": "",
            "zerolinecolor": "white"
           }
          },
          "shapedefaults": {
           "line": {
            "color": "#2a3f5f"
           }
          },
          "ternary": {
           "aaxis": {
            "gridcolor": "white",
            "linecolor": "white",
            "ticks": ""
           },
           "baxis": {
            "gridcolor": "white",
            "linecolor": "white",
            "ticks": ""
           },
           "bgcolor": "#E5ECF6",
           "caxis": {
            "gridcolor": "white",
            "linecolor": "white",
            "ticks": ""
           }
          },
          "title": {
           "x": 0.05
          },
          "xaxis": {
           "automargin": true,
           "gridcolor": "white",
           "linecolor": "white",
           "ticks": "",
           "title": {
            "standoff": 15
           },
           "zerolinecolor": "white",
           "zerolinewidth": 2
          },
          "yaxis": {
           "automargin": true,
           "gridcolor": "white",
           "linecolor": "white",
           "ticks": "",
           "title": {
            "standoff": 15
           },
           "zerolinecolor": "white",
           "zerolinewidth": 2
          }
         }
        },
        "title": {
         "text": "Countries with High USD_CAP Growth and Low Total Spend"
        }
       }
      }
     },
     "metadata": {},
     "output_type": "display_data"
    }
   ],
   "source": [
    "# Calculate average growth and total spend per location\n",
    "summary = df.groupby('LOCATION').agg({\n",
    "    'USD_CAP_GROWTH': 'mean',\n",
    "    'TOTAL_SPEND': 'mean'\n",
    "}).reset_index()\n",
    "\n",
    "# Rename for clarity\n",
    "summary.rename(columns={\n",
    "    'USD_CAP_GROWTH': 'AVG_USD_CAP_GROWTH',\n",
    "    'TOTAL_SPEND': 'AVG_TOTAL_SPEND'\n",
    "}, inplace=True)\n",
    "\n",
    "# Create 3 quantile bins (33.3%, 66.7%, 100%)\n",
    "summary[\"USD_CAP_GROWTH_QUANTILE\"] = pd.qcut(\n",
    "    summary[\"AVG_USD_CAP_GROWTH\"],\n",
    "    q=3,\n",
    "    labels=[\"Low\", \"Medium\", \"High\"]\n",
    ")\n",
    "\n",
    "summary[\"AVG_TOTAL_SPEND_QUANTILE\"] = pd.qcut(\n",
    "    summary[\"AVG_TOTAL_SPEND\"],\n",
    "    q=3,\n",
    "    labels=[\"Low\", \"Medium\", \"High\"]\n",
    ")\n",
    "\n",
    "# Determine thresholds (top 25% for growth, bottom 25% for spend)\n",
    "\n",
    "# Identify countries of interest\n",
    "summary[\"TARGET\"] = summary.apply(\n",
    "    lambda row: \"High Potential\" if (row[\"USD_CAP_GROWTH_QUANTILE\"] == 'High' and row[\"AVG_TOTAL_SPEND_QUANTILE\"] == 'Low')\n",
    "    else \"Medium Potential\" if (\n",
    "        (row[\"USD_CAP_GROWTH_QUANTILE\"] == 'High' and row[\"AVG_TOTAL_SPEND_QUANTILE\"] == 'Medium') or\n",
    "        (row[\"USD_CAP_GROWTH_QUANTILE\"] == 'Medium' and row[\"AVG_TOTAL_SPEND_QUANTILE\"] == 'Low')\n",
    "    )\n",
    "    else \"Low Potential\",\n",
    "    axis=1\n",
    ")\n",
    "\n",
    "\n",
    "# Create interactive Choropleth map\n",
    "fig = px.choropleth(\n",
    "    summary,\n",
    "    locations=\"LOCATION\",\n",
    "    color=\"TARGET\",\n",
    "    locationmode=\"ISO-3\",\n",
    "    hover_name=\"LOCATION\",\n",
    "    hover_data={\"AVG_USD_CAP_GROWTH\": True, \"AVG_TOTAL_SPEND\": True},\n",
    "    color_discrete_map={\"High Potential\": \"green\", \"Low Potential\": \"#ef98da\", \"Medium Potential\" : \"#efe298\"},\n",
    "    title=\"Countries with High USD_CAP Growth and Low Total Spend\"\n",
    ")\n",
    "\n",
    "fig.update_layout(geo=dict(showframe=False, showcoastlines=True))\n",
    "fig.show()\n"
   ]
  }
 ],
 "metadata": {
  "kernelspec": {
   "display_name": "dsi_teilnehmer",
   "language": "python",
   "name": "python3"
  },
  "language_info": {
   "codemirror_mode": {
    "name": "ipython",
    "version": 3
   },
   "file_extension": ".py",
   "mimetype": "text/x-python",
   "name": "python",
   "nbconvert_exporter": "python",
   "pygments_lexer": "ipython3",
   "version": "3.9.20"
  }
 },
 "nbformat": 4,
 "nbformat_minor": 5
}
