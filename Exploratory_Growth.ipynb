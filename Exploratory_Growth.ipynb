{
 "cells": [
  {
   "cell_type": "code",
   "execution_count": 24,
   "id": "1d315f4b",
   "metadata": {},
   "outputs": [],
   "source": [
    "import numpy as np\n",
    "import pandas as pd\n",
    "import seaborn as sns\n",
    "import plotly.express as px\n",
    "import math\n",
    "import matplotlib.pyplot as plt\n",
    "from sklearn.preprocessing import StandardScaler\n",
    "from sklearn.cluster import KMeans"
   ]
  },
  {
   "cell_type": "code",
   "execution_count": 25,
   "id": "c906b561",
   "metadata": {},
   "outputs": [
    {
     "name": "stderr",
     "output_type": "stream",
     "text": [
      "C:\\Users\\bmanna\\AppData\\Local\\Temp\\ipykernel_1788\\151408368.py:14: FutureWarning:\n",
      "\n",
      "The behavior of DataFrame.idxmax with all-NA values, or any-NA and skipna=False, is deprecated. In a future version this will raise ValueError\n",
      "\n"
     ]
    },
    {
     "data": {
      "text/html": [
       "<div>\n",
       "<style scoped>\n",
       "    .dataframe tbody tr th:only-of-type {\n",
       "        vertical-align: middle;\n",
       "    }\n",
       "\n",
       "    .dataframe tbody tr th {\n",
       "        vertical-align: top;\n",
       "    }\n",
       "\n",
       "    .dataframe thead th {\n",
       "        text-align: right;\n",
       "    }\n",
       "</style>\n",
       "<table border=\"1\" class=\"dataframe\">\n",
       "  <thead>\n",
       "    <tr style=\"text-align: right;\">\n",
       "      <th></th>\n",
       "      <th>LOCATION</th>\n",
       "      <th>TIME</th>\n",
       "      <th>PC_HEALTHXP</th>\n",
       "      <th>PC_GDP</th>\n",
       "      <th>USD_CAP</th>\n",
       "      <th>TOTAL_SPEND</th>\n",
       "      <th>POPULATION</th>\n",
       "      <th>PC_HEALTHXP_GROWTH</th>\n",
       "      <th>PC_GDP_GROWTH</th>\n",
       "      <th>USD_CAP_GROWTH</th>\n",
       "      <th>TOTAL_SPEND_GROWTH</th>\n",
       "      <th>POPULATION_GROWTH</th>\n",
       "      <th>HIGHEST_GROWTH_METRIC</th>\n",
       "      <th>HIGHEST_GROWTH_VALUE</th>\n",
       "    </tr>\n",
       "  </thead>\n",
       "  <tbody>\n",
       "    <tr>\n",
       "      <th>0</th>\n",
       "      <td>AUS</td>\n",
       "      <td>2011</td>\n",
       "      <td>15.311</td>\n",
       "      <td>1.307</td>\n",
       "      <td>583.222</td>\n",
       "      <td>13029.19</td>\n",
       "      <td>22340024.0</td>\n",
       "      <td>NaN</td>\n",
       "      <td>NaN</td>\n",
       "      <td>NaN</td>\n",
       "      <td>NaN</td>\n",
       "      <td>NaN</td>\n",
       "      <td>NaN</td>\n",
       "      <td>NaN</td>\n",
       "    </tr>\n",
       "    <tr>\n",
       "      <th>1</th>\n",
       "      <td>AUS</td>\n",
       "      <td>2012</td>\n",
       "      <td>15.308</td>\n",
       "      <td>1.328</td>\n",
       "      <td>589.993</td>\n",
       "      <td>13412.59</td>\n",
       "      <td>22733465.0</td>\n",
       "      <td>-0.000196</td>\n",
       "      <td>0.016067</td>\n",
       "      <td>0.011610</td>\n",
       "      <td>0.029426</td>\n",
       "      <td>0.017611</td>\n",
       "      <td>TOTAL_SPEND</td>\n",
       "      <td>0.029426</td>\n",
       "    </tr>\n",
       "    <tr>\n",
       "      <th>2</th>\n",
       "      <td>AUS</td>\n",
       "      <td>2013</td>\n",
       "      <td>14.345</td>\n",
       "      <td>1.255</td>\n",
       "      <td>586.402</td>\n",
       "      <td>13562.38</td>\n",
       "      <td>23128129.0</td>\n",
       "      <td>-0.062908</td>\n",
       "      <td>-0.054970</td>\n",
       "      <td>-0.006087</td>\n",
       "      <td>0.011168</td>\n",
       "      <td>0.017360</td>\n",
       "      <td>POPULATION</td>\n",
       "      <td>0.017360</td>\n",
       "    </tr>\n",
       "    <tr>\n",
       "      <th>3</th>\n",
       "      <td>AUS</td>\n",
       "      <td>2014</td>\n",
       "      <td>12.498</td>\n",
       "      <td>1.229</td>\n",
       "      <td>569.455</td>\n",
       "      <td>13368.35</td>\n",
       "      <td>23475686.0</td>\n",
       "      <td>-0.128756</td>\n",
       "      <td>-0.020717</td>\n",
       "      <td>-0.028900</td>\n",
       "      <td>-0.014306</td>\n",
       "      <td>0.015027</td>\n",
       "      <td>POPULATION</td>\n",
       "      <td>0.015027</td>\n",
       "    </tr>\n",
       "    <tr>\n",
       "      <th>4</th>\n",
       "      <td>AUS</td>\n",
       "      <td>2015</td>\n",
       "      <td>12.442</td>\n",
       "      <td>1.267</td>\n",
       "      <td>594.233</td>\n",
       "      <td>14152.25</td>\n",
       "      <td>23815995.0</td>\n",
       "      <td>-0.004481</td>\n",
       "      <td>0.030919</td>\n",
       "      <td>0.043512</td>\n",
       "      <td>0.058639</td>\n",
       "      <td>0.014496</td>\n",
       "      <td>TOTAL_SPEND</td>\n",
       "      <td>0.058639</td>\n",
       "    </tr>\n",
       "    <tr>\n",
       "      <th>...</th>\n",
       "      <td>...</td>\n",
       "      <td>...</td>\n",
       "      <td>...</td>\n",
       "      <td>...</td>\n",
       "      <td>...</td>\n",
       "      <td>...</td>\n",
       "      <td>...</td>\n",
       "      <td>...</td>\n",
       "      <td>...</td>\n",
       "      <td>...</td>\n",
       "      <td>...</td>\n",
       "      <td>...</td>\n",
       "      <td>...</td>\n",
       "      <td>...</td>\n",
       "    </tr>\n",
       "    <tr>\n",
       "      <th>372</th>\n",
       "      <td>USA</td>\n",
       "      <td>2016</td>\n",
       "      <td>12.263</td>\n",
       "      <td>2.060</td>\n",
       "      <td>1192.301</td>\n",
       "      <td>385198.78</td>\n",
       "      <td>323071755.0</td>\n",
       "      <td>-0.034941</td>\n",
       "      <td>-0.016706</td>\n",
       "      <td>0.002408</td>\n",
       "      <td>0.009698</td>\n",
       "      <td>0.007273</td>\n",
       "      <td>TOTAL_SPEND</td>\n",
       "      <td>0.009698</td>\n",
       "    </tr>\n",
       "    <tr>\n",
       "      <th>373</th>\n",
       "      <td>USA</td>\n",
       "      <td>2017</td>\n",
       "      <td>11.954</td>\n",
       "      <td>2.004</td>\n",
       "      <td>1200.769</td>\n",
       "      <td>390396.57</td>\n",
       "      <td>325122128.0</td>\n",
       "      <td>-0.025198</td>\n",
       "      <td>-0.027184</td>\n",
       "      <td>0.007102</td>\n",
       "      <td>0.013494</td>\n",
       "      <td>0.006346</td>\n",
       "      <td>TOTAL_SPEND</td>\n",
       "      <td>0.013494</td>\n",
       "    </tr>\n",
       "    <tr>\n",
       "      <th>374</th>\n",
       "      <td>USA</td>\n",
       "      <td>2018</td>\n",
       "      <td>11.766</td>\n",
       "      <td>1.957</td>\n",
       "      <td>1229.266</td>\n",
       "      <td>401771.09</td>\n",
       "      <td>326838199.0</td>\n",
       "      <td>-0.015727</td>\n",
       "      <td>-0.023453</td>\n",
       "      <td>0.023732</td>\n",
       "      <td>0.029136</td>\n",
       "      <td>0.005278</td>\n",
       "      <td>TOTAL_SPEND</td>\n",
       "      <td>0.029136</td>\n",
       "    </tr>\n",
       "    <tr>\n",
       "      <th>375</th>\n",
       "      <td>USA</td>\n",
       "      <td>2019</td>\n",
       "      <td>11.767</td>\n",
       "      <td>1.961</td>\n",
       "      <td>1277.032</td>\n",
       "      <td>419287.86</td>\n",
       "      <td>328329953.0</td>\n",
       "      <td>0.000085</td>\n",
       "      <td>0.002044</td>\n",
       "      <td>0.038857</td>\n",
       "      <td>0.043599</td>\n",
       "      <td>0.004564</td>\n",
       "      <td>TOTAL_SPEND</td>\n",
       "      <td>0.043599</td>\n",
       "    </tr>\n",
       "    <tr>\n",
       "      <th>376</th>\n",
       "      <td>USA</td>\n",
       "      <td>2020</td>\n",
       "      <td>11.037</td>\n",
       "      <td>2.070</td>\n",
       "      <td>1315.218</td>\n",
       "      <td>436030.19</td>\n",
       "      <td>331526933.0</td>\n",
       "      <td>-0.062038</td>\n",
       "      <td>0.055584</td>\n",
       "      <td>0.029902</td>\n",
       "      <td>0.039930</td>\n",
       "      <td>0.009737</td>\n",
       "      <td>PC_GDP</td>\n",
       "      <td>0.055584</td>\n",
       "    </tr>\n",
       "  </tbody>\n",
       "</table>\n",
       "<p>377 rows × 14 columns</p>\n",
       "</div>"
      ],
      "text/plain": [
       "    LOCATION  TIME  PC_HEALTHXP  PC_GDP   USD_CAP  TOTAL_SPEND   POPULATION  \\\n",
       "0        AUS  2011       15.311   1.307   583.222     13029.19   22340024.0   \n",
       "1        AUS  2012       15.308   1.328   589.993     13412.59   22733465.0   \n",
       "2        AUS  2013       14.345   1.255   586.402     13562.38   23128129.0   \n",
       "3        AUS  2014       12.498   1.229   569.455     13368.35   23475686.0   \n",
       "4        AUS  2015       12.442   1.267   594.233     14152.25   23815995.0   \n",
       "..       ...   ...          ...     ...       ...          ...          ...   \n",
       "372      USA  2016       12.263   2.060  1192.301    385198.78  323071755.0   \n",
       "373      USA  2017       11.954   2.004  1200.769    390396.57  325122128.0   \n",
       "374      USA  2018       11.766   1.957  1229.266    401771.09  326838199.0   \n",
       "375      USA  2019       11.767   1.961  1277.032    419287.86  328329953.0   \n",
       "376      USA  2020       11.037   2.070  1315.218    436030.19  331526933.0   \n",
       "\n",
       "     PC_HEALTHXP_GROWTH  PC_GDP_GROWTH  USD_CAP_GROWTH  TOTAL_SPEND_GROWTH  \\\n",
       "0                   NaN            NaN             NaN                 NaN   \n",
       "1             -0.000196       0.016067        0.011610            0.029426   \n",
       "2             -0.062908      -0.054970       -0.006087            0.011168   \n",
       "3             -0.128756      -0.020717       -0.028900           -0.014306   \n",
       "4             -0.004481       0.030919        0.043512            0.058639   \n",
       "..                  ...            ...             ...                 ...   \n",
       "372           -0.034941      -0.016706        0.002408            0.009698   \n",
       "373           -0.025198      -0.027184        0.007102            0.013494   \n",
       "374           -0.015727      -0.023453        0.023732            0.029136   \n",
       "375            0.000085       0.002044        0.038857            0.043599   \n",
       "376           -0.062038       0.055584        0.029902            0.039930   \n",
       "\n",
       "     POPULATION_GROWTH HIGHEST_GROWTH_METRIC  HIGHEST_GROWTH_VALUE  \n",
       "0                  NaN                   NaN                   NaN  \n",
       "1             0.017611           TOTAL_SPEND              0.029426  \n",
       "2             0.017360            POPULATION              0.017360  \n",
       "3             0.015027            POPULATION              0.015027  \n",
       "4             0.014496           TOTAL_SPEND              0.058639  \n",
       "..                 ...                   ...                   ...  \n",
       "372           0.007273           TOTAL_SPEND              0.009698  \n",
       "373           0.006346           TOTAL_SPEND              0.013494  \n",
       "374           0.005278           TOTAL_SPEND              0.029136  \n",
       "375           0.004564           TOTAL_SPEND              0.043599  \n",
       "376           0.009737                PC_GDP              0.055584  \n",
       "\n",
       "[377 rows x 14 columns]"
      ]
     },
     "execution_count": 25,
     "metadata": {},
     "output_type": "execute_result"
    }
   ],
   "source": [
    "#Read csv\n",
    "file_path = 'Cleaned_data_with_population.csv'\n",
    "\n",
    "df = pd.read_csv(file_path)\n",
    "\n",
    "# Sort by LOCATION and TIME for correct growth calculation\n",
    "df.sort_values(['LOCATION', 'TIME'], inplace=True)\n",
    "# Calculate growth rates for selected columns\n",
    "growth_columns = ['PC_HEALTHXP', 'PC_GDP', 'USD_CAP','TOTAL_SPEND','POPULATION']\n",
    "for col in growth_columns:\n",
    "    df[f'{col}_GROWTH'] = df.groupby('LOCATION')[col].pct_change()\n",
    "\n",
    "# Identify the column with the highest growth each year for each location\n",
    "df['HIGHEST_GROWTH_METRIC'] = df[[f'{col}_GROWTH' for col in growth_columns]].idxmax(axis=1)\n",
    "df['HIGHEST_GROWTH_VALUE'] = df[[f'{col}_GROWTH' for col in growth_columns]].max(axis=1)\n",
    "\n",
    "# Optional: clean the metric name (remove \"_GROWTH\" suffix)\n",
    "df['HIGHEST_GROWTH_METRIC'] = df['HIGHEST_GROWTH_METRIC'].str.replace('_GROWTH', '')\n",
    "\n",
    "# Save the result to csv\n",
    "df.to_csv('Cleaned_data_with_population_growth.csv', index=False)\n",
    "\n",
    "df\n"
   ]
  },
  {
   "cell_type": "code",
   "execution_count": 26,
   "id": "918ad5ee",
   "metadata": {},
   "outputs": [
    {
     "data": {
      "application/vnd.plotly.v1+json": {
       "config": {
        "plotlyServerURL": "https://plot.ly"
       },
       "data": [
        {
         "customdata": [
          [
           "AUS"
          ],
          [
           "AUT"
          ],
          [
           "BEL"
          ],
          [
           "BGR"
          ],
          [
           "CAN"
          ],
          [
           "CHE"
          ],
          [
           "CRI"
          ],
          [
           "CYP"
          ],
          [
           "CZE"
          ],
          [
           "DEU"
          ],
          [
           "DNK"
          ],
          [
           "ESP"
          ],
          [
           "FIN"
          ],
          [
           "FRA"
          ],
          [
           "GBR"
          ],
          [
           "GRC"
          ],
          [
           "HRV"
          ],
          [
           "HUN"
          ],
          [
           "IRL"
          ],
          [
           "ISL"
          ],
          [
           "ISR"
          ],
          [
           "ITA"
          ],
          [
           "JPN"
          ],
          [
           "KOR"
          ],
          [
           "MEX"
          ],
          [
           "NLD"
          ],
          [
           "NOR"
          ],
          [
           "POL"
          ],
          [
           "PRT"
          ],
          [
           "ROU"
          ],
          [
           "SVK"
          ],
          [
           "SVN"
          ],
          [
           "SWE"
          ],
          [
           "USA"
          ]
         ],
         "hovertemplate": "Country Type=Other<br>Avg Total Spend=%{x}<br>Avg USD_CAP Growth Rate=%{y}<br>LOCATION=%{customdata[0]}<extra></extra>",
         "legendgroup": "Other",
         "marker": {
          "color": "gray",
          "symbol": "circle"
         },
         "mode": "markers+text",
         "name": "Other",
         "orientation": "v",
         "showlegend": true,
         "text": [
          "AUS",
          "AUT",
          "BEL",
          "BGR",
          "CAN",
          "CHE",
          "CRI",
          "CYP",
          "CZE",
          "DEU",
          "DNK",
          "ESP",
          "FIN",
          "FRA",
          "GBR",
          "GRC",
          "HRV",
          "HUN",
          "IRL",
          "ISL",
          "ISR",
          "ITA",
          "JPN",
          "KOR",
          "MEX",
          "NLD",
          "NOR",
          "POL",
          "PRT",
          "ROU",
          "SVK",
          "SVN",
          "SWE",
          "USA"
         ],
         "textposition": "top center",
         "type": "scatter",
         "x": {
          "bdata": "5dAi26m9zEBg5dAie920QDiJQWAFvLlAcF5NPCs7r0C9dJMYPDXcQOJ6FK5HIrVAHVpkO9+ciECAarx0kyR+QBKDwMphN7RA9Shcj8aj70BSuB6Fa3udQDIIrBySI9ZAarx0k5hypUAyCKwcUifmQOF6FK7tct5AkxgEVu4Hu0BWDi2yHQiZQLKd76cmLrZAvp8aL92QpUDm0CLb+V5kQMl2vp9aBaZA+FPjpbP74ECyne+n0mD5QFCNl27KrNtAarx0k/h53EAGgZVDa3u6QIts5/tp56FAQmDl0IKNzUCsHFpk++ixQPP91HgpQr5AtMh2vt/apkDXo3A9io2QQI6XbhJjl7NAUI2Xbr66FkE=",
          "dtype": "f8"
         },
         "xaxis": "x",
         "y": {
          "bdata": "50c+WMbrkj8LaEtq5Z+gP45prbU4mIk/kHtTNGdCqj9ryYBFqlqIP4uTtR3KDqQ/B75SXs0Uhr9nk4dpBQWjP0sc3UzyzqA/oFK2OvfcpT9OxT0ZjeGNP+sFm1WN3Jo/RFKx2dpbmz/kq+BcFvuUP3Ks5klEbJg/cnqwr3Gggj/keFaLuIJ7P8d00bTZ7mI/8tZwNQZvdj85oISFCP1sPx6r/X+AY60/1ROdpOWtkT/VUbefSUqXP1Ku7JgIjKg/B01uAL5NnT+OSz7wO8BFP7zTyPhMcpQ/55WHiCr6mT8cLH/ZotWSPwwEo5Gefa0/VQbEL5/6ib/AZQ/dHEieP46RG1S1M5Q/+Yf+NTuWnz8=",
          "dtype": "f8"
         },
         "yaxis": "y"
        },
        {
         "customdata": [
          [
           "EST"
          ],
          [
           "LTU"
          ],
          [
           "LUX"
          ],
          [
           "LVA"
          ]
         ],
         "hovertemplate": "Country Type=Potential<br>Avg Total Spend=%{x}<br>Avg USD_CAP Growth Rate=%{y}<br>LOCATION=%{customdata[0]}<extra></extra>",
         "legendgroup": "Potential",
         "marker": {
          "color": "red",
          "symbol": "circle"
         },
         "mode": "markers+text",
         "name": "Potential",
         "orientation": "v",
         "showlegend": true,
         "text": [
          "EST",
          "LTU",
          "LUX",
          "LVA"
         ],
         "textposition": "top center",
         "type": "scatter",
         "x": {
          "bdata": "fmq8dJOQfUDwp8ZLt06XQOJ6FK5HFXRAzvdT46W6iEA=",
          "dtype": "f8"
         },
         "xaxis": "x",
         "y": {
          "bdata": "rKB9womEqD98rVUfYP2sP5fwG6hafKY/nOcphMfhsT8=",
          "dtype": "f8"
         },
         "yaxis": "y"
        }
       ],
       "layout": {
        "legend": {
         "title": {
          "text": "Target Country"
         },
         "tracegroupgap": 0
        },
        "template": {
         "data": {
          "bar": [
           {
            "error_x": {
             "color": "#2a3f5f"
            },
            "error_y": {
             "color": "#2a3f5f"
            },
            "marker": {
             "line": {
              "color": "#E5ECF6",
              "width": 0.5
             },
             "pattern": {
              "fillmode": "overlay",
              "size": 10,
              "solidity": 0.2
             }
            },
            "type": "bar"
           }
          ],
          "barpolar": [
           {
            "marker": {
             "line": {
              "color": "#E5ECF6",
              "width": 0.5
             },
             "pattern": {
              "fillmode": "overlay",
              "size": 10,
              "solidity": 0.2
             }
            },
            "type": "barpolar"
           }
          ],
          "carpet": [
           {
            "aaxis": {
             "endlinecolor": "#2a3f5f",
             "gridcolor": "white",
             "linecolor": "white",
             "minorgridcolor": "white",
             "startlinecolor": "#2a3f5f"
            },
            "baxis": {
             "endlinecolor": "#2a3f5f",
             "gridcolor": "white",
             "linecolor": "white",
             "minorgridcolor": "white",
             "startlinecolor": "#2a3f5f"
            },
            "type": "carpet"
           }
          ],
          "choropleth": [
           {
            "colorbar": {
             "outlinewidth": 0,
             "ticks": ""
            },
            "type": "choropleth"
           }
          ],
          "contour": [
           {
            "colorbar": {
             "outlinewidth": 0,
             "ticks": ""
            },
            "colorscale": [
             [
              0,
              "#0d0887"
             ],
             [
              0.1111111111111111,
              "#46039f"
             ],
             [
              0.2222222222222222,
              "#7201a8"
             ],
             [
              0.3333333333333333,
              "#9c179e"
             ],
             [
              0.4444444444444444,
              "#bd3786"
             ],
             [
              0.5555555555555556,
              "#d8576b"
             ],
             [
              0.6666666666666666,
              "#ed7953"
             ],
             [
              0.7777777777777778,
              "#fb9f3a"
             ],
             [
              0.8888888888888888,
              "#fdca26"
             ],
             [
              1,
              "#f0f921"
             ]
            ],
            "type": "contour"
           }
          ],
          "contourcarpet": [
           {
            "colorbar": {
             "outlinewidth": 0,
             "ticks": ""
            },
            "type": "contourcarpet"
           }
          ],
          "heatmap": [
           {
            "colorbar": {
             "outlinewidth": 0,
             "ticks": ""
            },
            "colorscale": [
             [
              0,
              "#0d0887"
             ],
             [
              0.1111111111111111,
              "#46039f"
             ],
             [
              0.2222222222222222,
              "#7201a8"
             ],
             [
              0.3333333333333333,
              "#9c179e"
             ],
             [
              0.4444444444444444,
              "#bd3786"
             ],
             [
              0.5555555555555556,
              "#d8576b"
             ],
             [
              0.6666666666666666,
              "#ed7953"
             ],
             [
              0.7777777777777778,
              "#fb9f3a"
             ],
             [
              0.8888888888888888,
              "#fdca26"
             ],
             [
              1,
              "#f0f921"
             ]
            ],
            "type": "heatmap"
           }
          ],
          "histogram": [
           {
            "marker": {
             "pattern": {
              "fillmode": "overlay",
              "size": 10,
              "solidity": 0.2
             }
            },
            "type": "histogram"
           }
          ],
          "histogram2d": [
           {
            "colorbar": {
             "outlinewidth": 0,
             "ticks": ""
            },
            "colorscale": [
             [
              0,
              "#0d0887"
             ],
             [
              0.1111111111111111,
              "#46039f"
             ],
             [
              0.2222222222222222,
              "#7201a8"
             ],
             [
              0.3333333333333333,
              "#9c179e"
             ],
             [
              0.4444444444444444,
              "#bd3786"
             ],
             [
              0.5555555555555556,
              "#d8576b"
             ],
             [
              0.6666666666666666,
              "#ed7953"
             ],
             [
              0.7777777777777778,
              "#fb9f3a"
             ],
             [
              0.8888888888888888,
              "#fdca26"
             ],
             [
              1,
              "#f0f921"
             ]
            ],
            "type": "histogram2d"
           }
          ],
          "histogram2dcontour": [
           {
            "colorbar": {
             "outlinewidth": 0,
             "ticks": ""
            },
            "colorscale": [
             [
              0,
              "#0d0887"
             ],
             [
              0.1111111111111111,
              "#46039f"
             ],
             [
              0.2222222222222222,
              "#7201a8"
             ],
             [
              0.3333333333333333,
              "#9c179e"
             ],
             [
              0.4444444444444444,
              "#bd3786"
             ],
             [
              0.5555555555555556,
              "#d8576b"
             ],
             [
              0.6666666666666666,
              "#ed7953"
             ],
             [
              0.7777777777777778,
              "#fb9f3a"
             ],
             [
              0.8888888888888888,
              "#fdca26"
             ],
             [
              1,
              "#f0f921"
             ]
            ],
            "type": "histogram2dcontour"
           }
          ],
          "mesh3d": [
           {
            "colorbar": {
             "outlinewidth": 0,
             "ticks": ""
            },
            "type": "mesh3d"
           }
          ],
          "parcoords": [
           {
            "line": {
             "colorbar": {
              "outlinewidth": 0,
              "ticks": ""
             }
            },
            "type": "parcoords"
           }
          ],
          "pie": [
           {
            "automargin": true,
            "type": "pie"
           }
          ],
          "scatter": [
           {
            "fillpattern": {
             "fillmode": "overlay",
             "size": 10,
             "solidity": 0.2
            },
            "type": "scatter"
           }
          ],
          "scatter3d": [
           {
            "line": {
             "colorbar": {
              "outlinewidth": 0,
              "ticks": ""
             }
            },
            "marker": {
             "colorbar": {
              "outlinewidth": 0,
              "ticks": ""
             }
            },
            "type": "scatter3d"
           }
          ],
          "scattercarpet": [
           {
            "marker": {
             "colorbar": {
              "outlinewidth": 0,
              "ticks": ""
             }
            },
            "type": "scattercarpet"
           }
          ],
          "scattergeo": [
           {
            "marker": {
             "colorbar": {
              "outlinewidth": 0,
              "ticks": ""
             }
            },
            "type": "scattergeo"
           }
          ],
          "scattergl": [
           {
            "marker": {
             "colorbar": {
              "outlinewidth": 0,
              "ticks": ""
             }
            },
            "type": "scattergl"
           }
          ],
          "scattermap": [
           {
            "marker": {
             "colorbar": {
              "outlinewidth": 0,
              "ticks": ""
             }
            },
            "type": "scattermap"
           }
          ],
          "scattermapbox": [
           {
            "marker": {
             "colorbar": {
              "outlinewidth": 0,
              "ticks": ""
             }
            },
            "type": "scattermapbox"
           }
          ],
          "scatterpolar": [
           {
            "marker": {
             "colorbar": {
              "outlinewidth": 0,
              "ticks": ""
             }
            },
            "type": "scatterpolar"
           }
          ],
          "scatterpolargl": [
           {
            "marker": {
             "colorbar": {
              "outlinewidth": 0,
              "ticks": ""
             }
            },
            "type": "scatterpolargl"
           }
          ],
          "scatterternary": [
           {
            "marker": {
             "colorbar": {
              "outlinewidth": 0,
              "ticks": ""
             }
            },
            "type": "scatterternary"
           }
          ],
          "surface": [
           {
            "colorbar": {
             "outlinewidth": 0,
             "ticks": ""
            },
            "colorscale": [
             [
              0,
              "#0d0887"
             ],
             [
              0.1111111111111111,
              "#46039f"
             ],
             [
              0.2222222222222222,
              "#7201a8"
             ],
             [
              0.3333333333333333,
              "#9c179e"
             ],
             [
              0.4444444444444444,
              "#bd3786"
             ],
             [
              0.5555555555555556,
              "#d8576b"
             ],
             [
              0.6666666666666666,
              "#ed7953"
             ],
             [
              0.7777777777777778,
              "#fb9f3a"
             ],
             [
              0.8888888888888888,
              "#fdca26"
             ],
             [
              1,
              "#f0f921"
             ]
            ],
            "type": "surface"
           }
          ],
          "table": [
           {
            "cells": {
             "fill": {
              "color": "#EBF0F8"
             },
             "line": {
              "color": "white"
             }
            },
            "header": {
             "fill": {
              "color": "#C8D4E3"
             },
             "line": {
              "color": "white"
             }
            },
            "type": "table"
           }
          ]
         },
         "layout": {
          "annotationdefaults": {
           "arrowcolor": "#2a3f5f",
           "arrowhead": 0,
           "arrowwidth": 1
          },
          "autotypenumbers": "strict",
          "coloraxis": {
           "colorbar": {
            "outlinewidth": 0,
            "ticks": ""
           }
          },
          "colorscale": {
           "diverging": [
            [
             0,
             "#8e0152"
            ],
            [
             0.1,
             "#c51b7d"
            ],
            [
             0.2,
             "#de77ae"
            ],
            [
             0.3,
             "#f1b6da"
            ],
            [
             0.4,
             "#fde0ef"
            ],
            [
             0.5,
             "#f7f7f7"
            ],
            [
             0.6,
             "#e6f5d0"
            ],
            [
             0.7,
             "#b8e186"
            ],
            [
             0.8,
             "#7fbc41"
            ],
            [
             0.9,
             "#4d9221"
            ],
            [
             1,
             "#276419"
            ]
           ],
           "sequential": [
            [
             0,
             "#0d0887"
            ],
            [
             0.1111111111111111,
             "#46039f"
            ],
            [
             0.2222222222222222,
             "#7201a8"
            ],
            [
             0.3333333333333333,
             "#9c179e"
            ],
            [
             0.4444444444444444,
             "#bd3786"
            ],
            [
             0.5555555555555556,
             "#d8576b"
            ],
            [
             0.6666666666666666,
             "#ed7953"
            ],
            [
             0.7777777777777778,
             "#fb9f3a"
            ],
            [
             0.8888888888888888,
             "#fdca26"
            ],
            [
             1,
             "#f0f921"
            ]
           ],
           "sequentialminus": [
            [
             0,
             "#0d0887"
            ],
            [
             0.1111111111111111,
             "#46039f"
            ],
            [
             0.2222222222222222,
             "#7201a8"
            ],
            [
             0.3333333333333333,
             "#9c179e"
            ],
            [
             0.4444444444444444,
             "#bd3786"
            ],
            [
             0.5555555555555556,
             "#d8576b"
            ],
            [
             0.6666666666666666,
             "#ed7953"
            ],
            [
             0.7777777777777778,
             "#fb9f3a"
            ],
            [
             0.8888888888888888,
             "#fdca26"
            ],
            [
             1,
             "#f0f921"
            ]
           ]
          },
          "colorway": [
           "#636efa",
           "#EF553B",
           "#00cc96",
           "#ab63fa",
           "#FFA15A",
           "#19d3f3",
           "#FF6692",
           "#B6E880",
           "#FF97FF",
           "#FECB52"
          ],
          "font": {
           "color": "#2a3f5f"
          },
          "geo": {
           "bgcolor": "white",
           "lakecolor": "white",
           "landcolor": "#E5ECF6",
           "showlakes": true,
           "showland": true,
           "subunitcolor": "white"
          },
          "hoverlabel": {
           "align": "left"
          },
          "hovermode": "closest",
          "mapbox": {
           "style": "light"
          },
          "paper_bgcolor": "white",
          "plot_bgcolor": "#E5ECF6",
          "polar": {
           "angularaxis": {
            "gridcolor": "white",
            "linecolor": "white",
            "ticks": ""
           },
           "bgcolor": "#E5ECF6",
           "radialaxis": {
            "gridcolor": "white",
            "linecolor": "white",
            "ticks": ""
           }
          },
          "scene": {
           "xaxis": {
            "backgroundcolor": "#E5ECF6",
            "gridcolor": "white",
            "gridwidth": 2,
            "linecolor": "white",
            "showbackground": true,
            "ticks": "",
            "zerolinecolor": "white"
           },
           "yaxis": {
            "backgroundcolor": "#E5ECF6",
            "gridcolor": "white",
            "gridwidth": 2,
            "linecolor": "white",
            "showbackground": true,
            "ticks": "",
            "zerolinecolor": "white"
           },
           "zaxis": {
            "backgroundcolor": "#E5ECF6",
            "gridcolor": "white",
            "gridwidth": 2,
            "linecolor": "white",
            "showbackground": true,
            "ticks": "",
            "zerolinecolor": "white"
           }
          },
          "shapedefaults": {
           "line": {
            "color": "#2a3f5f"
           }
          },
          "ternary": {
           "aaxis": {
            "gridcolor": "white",
            "linecolor": "white",
            "ticks": ""
           },
           "baxis": {
            "gridcolor": "white",
            "linecolor": "white",
            "ticks": ""
           },
           "bgcolor": "#E5ECF6",
           "caxis": {
            "gridcolor": "white",
            "linecolor": "white",
            "ticks": ""
           }
          },
          "title": {
           "x": 0.05
          },
          "xaxis": {
           "automargin": true,
           "gridcolor": "white",
           "linecolor": "white",
           "ticks": "",
           "title": {
            "standoff": 15
           },
           "zerolinecolor": "white",
           "zerolinewidth": 2
          },
          "yaxis": {
           "automargin": true,
           "gridcolor": "white",
           "linecolor": "white",
           "ticks": "",
           "title": {
            "standoff": 15
           },
           "zerolinecolor": "white",
           "zerolinewidth": 2
          }
         }
        },
        "title": {
         "text": "Countries with High USD_CAP Growth and Low Total Spend"
        },
        "xaxis": {
         "anchor": "y",
         "domain": [
          0,
          1
         ],
         "title": {
          "text": "Avg Total Spend"
         }
        },
        "yaxis": {
         "anchor": "x",
         "domain": [
          0,
          1
         ],
         "title": {
          "text": "Avg USD_CAP Growth Rate"
         }
        }
       }
      }
     },
     "metadata": {},
     "output_type": "display_data"
    }
   ],
   "source": [
    "# Calculate average growth and total spend per location\n",
    "summary = df.groupby('LOCATION').agg({\n",
    "    'USD_CAP_GROWTH': 'mean',\n",
    "    'TOTAL_SPEND': 'mean'\n",
    "}).reset_index()\n",
    "\n",
    "# Rename for clarity\n",
    "summary.rename(columns={\n",
    "    'USD_CAP_GROWTH': 'AVG_USD_CAP_GROWTH',\n",
    "    'TOTAL_SPEND': 'AVG_TOTAL_SPEND'\n",
    "}, inplace=True)\n",
    "\n",
    "# Determine thresholds (top 25% for growth, bottom 25% for spend)\n",
    "growth_threshold = summary['AVG_USD_CAP_GROWTH'].quantile(0.75)\n",
    "spend_threshold = summary['AVG_TOTAL_SPEND'].quantile(0.25)\n",
    "\n",
    "# Identify countries of interest\n",
    "summary[\"TARGET\"] = summary.apply(\n",
    "    lambda row: \"Potential\" if (row[\"AVG_USD_CAP_GROWTH\"] >= growth_threshold and row[\"AVG_TOTAL_SPEND\"] <= spend_threshold)\n",
    "    else \"Other\",\n",
    "    axis=1\n",
    ")\n",
    "\n",
    "# Interactive Plotly scatter plot\n",
    "fig = px.scatter(\n",
    "    summary,\n",
    "    x=\"AVG_TOTAL_SPEND\",\n",
    "    y=\"AVG_USD_CAP_GROWTH\",\n",
    "    color=\"TARGET\",\n",
    "    text=\"LOCATION\",\n",
    "    hover_data=[\"LOCATION\", \"AVG_USD_CAP_GROWTH\", \"AVG_TOTAL_SPEND\"],\n",
    "    color_discrete_map={\"Potential\": \"red\", \"Other\": \"gray\"},\n",
    "    labels={\n",
    "        \"AVG_TOTAL_SPEND\": \"Avg Total Spend\",\n",
    "        \"AVG_USD_CAP_GROWTH\": \"Avg USD_CAP Growth Rate\",\n",
    "        \"TARGET\": \"Country Type\"\n",
    "    },\n",
    "    title=\"Countries with High USD_CAP Growth and Low Total Spend\"\n",
    ")\n",
    "\n",
    "# Improve layout\n",
    "fig.update_traces(textposition='top center')\n",
    "fig.update_layout(legend=dict(title=\"Target Country\"))\n",
    "fig.show()"
   ]
  }
 ],
 "metadata": {
  "kernelspec": {
   "display_name": "dsi_teilnehmer",
   "language": "python",
   "name": "python3"
  },
  "language_info": {
   "codemirror_mode": {
    "name": "ipython",
    "version": 3
   },
   "file_extension": ".py",
   "mimetype": "text/x-python",
   "name": "python",
   "nbconvert_exporter": "python",
   "pygments_lexer": "ipython3",
   "version": "3.9.20"
  }
 },
 "nbformat": 4,
 "nbformat_minor": 5
}
