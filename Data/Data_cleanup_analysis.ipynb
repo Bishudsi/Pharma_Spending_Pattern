{
 "cells": [
  {
   "cell_type": "code",
   "execution_count": 23,
   "id": "612380bd",
   "metadata": {},
   "outputs": [
    {
     "data": {
      "text/html": [
       "<div>\n",
       "<style scoped>\n",
       "    .dataframe tbody tr th:only-of-type {\n",
       "        vertical-align: middle;\n",
       "    }\n",
       "\n",
       "    .dataframe tbody tr th {\n",
       "        vertical-align: top;\n",
       "    }\n",
       "\n",
       "    .dataframe thead th {\n",
       "        text-align: right;\n",
       "    }\n",
       "</style>\n",
       "<table border=\"1\" class=\"dataframe\">\n",
       "  <thead>\n",
       "    <tr style=\"text-align: right;\">\n",
       "      <th></th>\n",
       "      <th>LOCATION</th>\n",
       "      <th>TIME</th>\n",
       "      <th>PC_HEALTHXP</th>\n",
       "      <th>PC_GDP</th>\n",
       "      <th>USD_CAP</th>\n",
       "      <th>TOTAL_SPEND</th>\n",
       "    </tr>\n",
       "  </thead>\n",
       "  <tbody>\n",
       "    <tr>\n",
       "      <th>0</th>\n",
       "      <td>AUS</td>\n",
       "      <td>1971</td>\n",
       "      <td>15.992</td>\n",
       "      <td>0.726</td>\n",
       "      <td>33.990</td>\n",
       "      <td>439.73</td>\n",
       "    </tr>\n",
       "    <tr>\n",
       "      <th>1</th>\n",
       "      <td>AUS</td>\n",
       "      <td>1972</td>\n",
       "      <td>15.091</td>\n",
       "      <td>0.685</td>\n",
       "      <td>34.184</td>\n",
       "      <td>450.44</td>\n",
       "    </tr>\n",
       "    <tr>\n",
       "      <th>2</th>\n",
       "      <td>AUS</td>\n",
       "      <td>1973</td>\n",
       "      <td>15.117</td>\n",
       "      <td>0.681</td>\n",
       "      <td>37.956</td>\n",
       "      <td>507.85</td>\n",
       "    </tr>\n",
       "    <tr>\n",
       "      <th>3</th>\n",
       "      <td>AUS</td>\n",
       "      <td>1974</td>\n",
       "      <td>14.771</td>\n",
       "      <td>0.754</td>\n",
       "      <td>45.338</td>\n",
       "      <td>622.17</td>\n",
       "    </tr>\n",
       "    <tr>\n",
       "      <th>4</th>\n",
       "      <td>AUS</td>\n",
       "      <td>1975</td>\n",
       "      <td>11.849</td>\n",
       "      <td>0.682</td>\n",
       "      <td>44.363</td>\n",
       "      <td>616.34</td>\n",
       "    </tr>\n",
       "  </tbody>\n",
       "</table>\n",
       "</div>"
      ],
      "text/plain": [
       "  LOCATION  TIME  PC_HEALTHXP  PC_GDP  USD_CAP  TOTAL_SPEND\n",
       "0      AUS  1971       15.992   0.726   33.990       439.73\n",
       "1      AUS  1972       15.091   0.685   34.184       450.44\n",
       "2      AUS  1973       15.117   0.681   37.956       507.85\n",
       "3      AUS  1974       14.771   0.754   45.338       622.17\n",
       "4      AUS  1975       11.849   0.682   44.363       616.34"
      ]
     },
     "execution_count": 23,
     "metadata": {},
     "output_type": "execute_result"
    }
   ],
   "source": [
    "import pandas as pd\n",
    "\n",
    "# URL of the CSV\n",
    "url = \"https://datahub.io/core/pharmaceutical-drug-spending/_r/-/data/data.csv\"\n",
    "\n",
    "# Read into a DataFrame\n",
    "df = pd.read_csv(url)\n",
    "\n",
    "# Quick check\n",
    "df.head()\n"
   ]
  },
  {
   "cell_type": "code",
   "execution_count": 24,
   "id": "7c73e48a",
   "metadata": {},
   "outputs": [
    {
     "name": "stdout",
     "output_type": "stream",
     "text": [
      "Step 1: Missing Values per Column\n",
      "LOCATION       0\n",
      "TIME           0\n",
      "PC_HEALTHXP    0\n",
      "PC_GDP         0\n",
      "USD_CAP        0\n",
      "TOTAL_SPEND    0\n",
      "dtype: int64 \n",
      "\n"
     ]
    }
   ],
   "source": [
    "# Step 1: Missing Values Check - confirms data completeness\n",
    "print(\"Step 1: Missing Values per Column\")\n",
    "print(df.isnull().sum(), \"\\n\")"
   ]
  },
  {
   "cell_type": "code",
   "execution_count": 25,
   "id": "a9f0b7c8",
   "metadata": {},
   "outputs": [
    {
     "name": "stdout",
     "output_type": "stream",
     "text": [
      "1. Time Coverage by Country:\n",
      "LOCATION  first_year  last_year  years_reported\n",
      "     AUS        1971       2020              50\n",
      "     AUT        1990       2021              32\n",
      "     BEL        1970       2021              47\n",
      "     BGR        2003       2021              16\n",
      "     BRA        2015       2019               5\n",
      "     CAN        1970       2022              53\n",
      "     CHE        2010       2021              12\n",
      "     CHL        2019       2021               3\n",
      "     COL        2013       2017               5\n",
      "     CRI        2011       2021              11\n",
      "     CYP        2003       2021              19\n",
      "     CZE        1990       2021              32\n",
      "     DEU        1970       2021              51\n",
      "     DNK        1980       2022              43\n",
      "     ESP        1980       2021              38\n",
      "     EST        1999       2021              23\n",
      "     FIN        1970       2021              52\n",
      "     FRA        1970       2021              36\n",
      "     GBR        1970       2021              36\n",
      "     GRC        1988       2021              34\n",
      "     HRV        2011       2021              11\n",
      "     HUN        1991       2021              28\n",
      "     IRL        1975       2021              47\n",
      "     ISL        1970       2022              53\n",
      "     ISR        2006       2020              15\n",
      "     ITA        1988       2022              35\n",
      "     JPN        1980       2020              38\n",
      "     KOR        1970       2022              53\n",
      "     LTU        2004       2021              18\n",
      "     LUX        1976       2022              45\n",
      "     LVA        2004       2021              18\n",
      "     MEX        1999       2021              23\n",
      "     MLT        2014       2020               7\n",
      "     NLD        1972       2022              51\n",
      "     NOR        1970       2021              52\n",
      "     NZL        1971       2007              24\n",
      "     POL        2002       2021              20\n",
      "     PRT        1970       2021              45\n",
      "     ROU        2003       2021              19\n",
      "     SVK        1999       2021              23\n",
      "     SVN        2002       2021              20\n",
      "     SWE        1970       2021              52\n",
      "     TUR        1981       2000              11\n",
      "     USA        1987       2021              35\n"
     ]
    }
   ],
   "source": [
    "\n",
    "# Step 2: Time Coverage Check - shows each country’s data span\n",
    "coverage = df.groupby('LOCATION')['TIME'].agg(\n",
    "    first_year='min',\n",
    "    last_year='max',\n",
    "    years_reported=lambda x: x.nunique()\n",
    ").reset_index()\n",
    "print(\"1. Time Coverage by Country:\")\n",
    "print(coverage.to_string(index=False))"
   ]
  },
  {
   "cell_type": "code",
   "execution_count": 26,
   "id": "315f2b5b",
   "metadata": {},
   "outputs": [
    {
     "name": "stdout",
     "output_type": "stream",
     "text": [
      "\n",
      "3. Summary Statistics:\n",
      "              count          mean           std    min      25%       50%       75%         max\n",
      "PC_HEALTHXP  1341.0     16.632877      6.613320  5.545   11.849    15.238    20.580      40.239\n",
      "PC_GDP       1341.0      1.215524      0.479568  0.207    0.802     1.187     1.524       2.870\n",
      "USD_CAP      1341.0    338.278398    226.158326  3.628  144.592   317.795   496.858    1432.309\n",
      "TOTAL_SPEND  1341.0  14439.322088  43259.358895  5.810  756.280  2786.190  8794.360  475596.740\n"
     ]
    }
   ],
   "source": [
    "# Step 3: Summary Statistics - provides a quick check on each numeric variable \n",
    "summary = df[['PC_HEALTHXP', 'PC_GDP', 'USD_CAP', 'TOTAL_SPEND']].describe().T\n",
    "print(\"\\n3. Summary Statistics:\")\n",
    "print(summary.to_string())"
   ]
  },
  {
   "cell_type": "code",
   "execution_count": 27,
   "id": "6720b693",
   "metadata": {},
   "outputs": [
    {
     "name": "stdout",
     "output_type": "stream",
     "text": [
      "\n",
      "4. Outliers (1st & 99th percentile):\n",
      "LOCATION  TIME  USD_CAP  TOTAL_SPEND\n",
      "     DEU  2021 1042.460     86728.58\n",
      "     ISL  1970   28.437         5.81\n",
      "     ISL  1971   38.402         7.91\n",
      "     ISL  1972   43.415         9.08\n",
      "     ISL  1973   42.803         9.09\n",
      "     ISL  1974   46.620        10.03\n",
      "     ISL  1975   58.281        12.70\n",
      "     ISL  1976   56.601        12.46\n",
      "     ISL  1977   65.760        14.59\n",
      "     ISL  1978   80.924        18.09\n",
      "     ISL  1979   92.839        20.96\n",
      "     ISL  1980  120.025        27.38\n",
      "     KOR  1970    3.976       128.19\n",
      "     KOR  1971    3.628       119.30\n",
      "     KOR  1972    3.754       125.78\n",
      "     KOR  1973    3.853       131.40\n",
      "     KOR  1974    3.826       132.73\n",
      "     KOR  1975    6.505       229.50\n",
      "     KOR  1976    7.968       285.64\n",
      "     KOR  1977    8.546       311.18\n",
      "     LUX  1976   60.128        21.69\n",
      "     LUX  1977   63.006        22.77\n",
      "     LUX  1978   74.606        27.01\n",
      "     PRT  1970    6.345        55.08\n",
      "     TUR  1981    9.685       448.62\n",
      "     TUR  1982   10.331       488.88\n",
      "     TUR  1983   10.565       511.85\n",
      "     TUR  1984   10.054       498.42\n",
      "     TUR  1985    9.674       490.35\n",
      "     USA  2008  952.447    289633.39\n",
      "     USA  2009  984.105    301895.40\n",
      "     USA  2010  986.630    305191.44\n",
      "     USA  2011 1004.205    312893.69\n",
      "     USA  2012 1013.800    318209.17\n",
      "     USA  2013 1020.541    322552.13\n",
      "     USA  2014 1118.634    356157.77\n",
      "     USA  2015 1189.437    381498.83\n",
      "     USA  2016 1192.301    385198.78\n",
      "     USA  2017 1200.769    390396.57\n",
      "     USA  2018 1229.266    401771.09\n",
      "     USA  2019 1277.032    419287.86\n",
      "     USA  2020 1315.218    436030.19\n",
      "     USA  2021 1432.309    475596.74\n"
     ]
    }
   ],
   "source": [
    "# Step 4: Outlier Detection (1st & 99th percentile)\n",
    "usd_low, usd_high = df['USD_CAP'].quantile([0.01, 0.99])\n",
    "ts_low, ts_high = df['TOTAL_SPEND'].quantile([0.01, 0.99])\n",
    "outliers = df[\n",
    "    (df['USD_CAP'] < usd_low) | (df['USD_CAP'] > usd_high) |\n",
    "    (df['TOTAL_SPEND'] < ts_low) | (df['TOTAL_SPEND'] > ts_high)\n",
    "][['LOCATION', 'TIME', 'USD_CAP', 'TOTAL_SPEND']]\n",
    "print(\"\\n4. Outliers (1st & 99th percentile):\")\n",
    "print(outliers.to_string(index=False))"
   ]
  },
  {
   "cell_type": "code",
   "execution_count": 28,
   "id": "7861f801",
   "metadata": {},
   "outputs": [
    {
     "name": "stdout",
     "output_type": "stream",
     "text": [
      "\n",
      "5. Correlation Matrix:\n",
      "             PC_HEALTHXP    PC_GDP   USD_CAP  TOTAL_SPEND\n",
      "PC_HEALTHXP     1.000000  0.718099  0.112574    -0.055372\n",
      "PC_GDP          0.718099  1.000000  0.643091     0.307392\n",
      "USD_CAP         0.112574  0.643091  1.000000     0.521185\n",
      "TOTAL_SPEND    -0.055372  0.307392  0.521185     1.000000\n"
     ]
    }
   ],
   "source": [
    "# Step 5: Correlation Matrix\n",
    "corr = df[['PC_HEALTHXP', 'PC_GDP', 'USD_CAP', 'TOTAL_SPEND']].corr()\n",
    "print(\"\\n5. Correlation Matrix:\")\n",
    "print(corr.to_string())"
   ]
  },
  {
   "cell_type": "code",
   "execution_count": 29,
   "id": "b8c6cfca",
   "metadata": {},
   "outputs": [
    {
     "name": "stdout",
     "output_type": "stream",
     "text": [
      "\n",
      "6. Countries with ≥10 Years of Data:\n",
      "LOCATION  first_year  last_year  years_reported\n",
      "     AUS        1971       2020              50\n",
      "     AUT        1990       2021              32\n",
      "     BEL        1970       2021              47\n",
      "     BGR        2003       2021              16\n",
      "     CAN        1970       2022              53\n",
      "     CHE        2010       2021              12\n",
      "     CRI        2011       2021              11\n",
      "     CYP        2003       2021              19\n",
      "     CZE        1990       2021              32\n",
      "     DEU        1970       2021              51\n",
      "     DNK        1980       2022              43\n",
      "     ESP        1980       2021              38\n",
      "     EST        1999       2021              23\n",
      "     FIN        1970       2021              52\n",
      "     FRA        1970       2021              36\n",
      "     GBR        1970       2021              36\n",
      "     GRC        1988       2021              34\n",
      "     HRV        2011       2021              11\n",
      "     HUN        1991       2021              28\n",
      "     IRL        1975       2021              47\n",
      "     ISL        1970       2022              53\n",
      "     ISR        2006       2020              15\n",
      "     ITA        1988       2022              35\n",
      "     JPN        1980       2020              38\n",
      "     KOR        1970       2022              53\n",
      "     LTU        2004       2021              18\n",
      "     LUX        1976       2022              45\n",
      "     LVA        2004       2021              18\n",
      "     MEX        1999       2021              23\n",
      "     NLD        1972       2022              51\n",
      "     NOR        1970       2021              52\n",
      "     NZL        1971       2007              24\n",
      "     POL        2002       2021              20\n",
      "     PRT        1970       2021              45\n",
      "     ROU        2003       2021              19\n",
      "     SVK        1999       2021              23\n",
      "     SVN        2002       2021              20\n",
      "     SWE        1970       2021              52\n",
      "     TUR        1981       2000              11\n",
      "     USA        1987       2021              35\n"
     ]
    }
   ],
   "source": [
    "# Step 6: Feasibility Check (>=10 years of data)\n",
    "feasible = coverage[coverage['years_reported'] >= 10]\n",
    "print(\"\\n6. Countries with ≥10 Years of Data:\")\n",
    "print(feasible.to_string(index=False))"
   ]
  },
  {
   "cell_type": "code",
   "execution_count": 30,
   "id": "358a1648",
   "metadata": {},
   "outputs": [
    {
     "name": "stdout",
     "output_type": "stream",
     "text": [
      "Original dataset rows: 1341\n",
      "Filtered dataset rows: 1321\n",
      "Countries retained: ['AUS' 'AUT' 'BEL' 'BGR' 'CAN' 'CHE' 'CRI' 'CYP' 'CZE' 'DEU' 'DNK' 'ESP'\n",
      " 'EST' 'FIN' 'FRA' 'GBR' 'GRC' 'HRV' 'HUN' 'IRL' 'ISL' 'ISR' 'ITA' 'JPN'\n",
      " 'KOR' 'LTU' 'LUX' 'LVA' 'MEX' 'NLD' 'NOR' 'NZL' 'POL' 'PRT' 'ROU' 'SVK'\n",
      " 'SVN' 'SWE' 'TUR' 'USA']\n",
      "Excluded Countries (fewer than 10 years of data):\n",
      "LOCATION  first_year  last_year  years_reported\n",
      "     BRA        2015       2019               5\n",
      "     CHL        2019       2021               3\n",
      "     COL        2013       2017               5\n",
      "     MLT        2014       2020               7\n"
     ]
    }
   ],
   "source": [
    "# Exclude countries with less than 10 years of data\n",
    "df_filtered = df.groupby('LOCATION').filter(lambda x: x['TIME'].nunique() >= 10)\n",
    "\n",
    "# check\n",
    "print(f\"Original dataset rows: {len(df)}\")\n",
    "print(f\"Filtered dataset rows: {len(df_filtered)}\")\n",
    "print(\"Countries retained:\", df_filtered['LOCATION'].unique())\n",
    "\n",
    "#Identify and display excluded countries\n",
    "excluded = coverage[coverage['years_reported'] < 10]\n",
    "print(\"Excluded Countries (fewer than 10 years of data):\")\n",
    "print(excluded.to_string(index=False))"
   ]
  },
  {
   "cell_type": "code",
   "execution_count": 31,
   "id": "ea2ea3a5",
   "metadata": {},
   "outputs": [
    {
     "name": "stdout",
     "output_type": "stream",
     "text": [
      "Filtered DataFrame shape: (1321, 6)\n",
      "Countries included: ['AUS', 'AUT', 'BEL', 'BGR', 'CAN', 'CHE', 'CRI', 'CYP', 'CZE', 'DEU', 'DNK', 'ESP', 'EST', 'FIN', 'FRA', 'GBR', 'GRC', 'HRV', 'HUN', 'IRL', 'ISL', 'ISR', 'ITA', 'JPN', 'KOR', 'LTU', 'LUX', 'LVA', 'MEX', 'NLD', 'NOR', 'NZL', 'POL', 'PRT', 'ROU', 'SVK', 'SVN', 'SWE', 'TUR', 'USA']\n"
     ]
    }
   ],
   "source": [
    "# Compute number of distinct years per country\n",
    "years_per_country = df.groupby('LOCATION')['TIME'].nunique()\n",
    "\n",
    "# Identify countries with 10+ years of data\n",
    "countries_10plus = years_per_country[years_per_country >= 10].index.tolist()\n",
    "\n",
    "# Create filtered DataFrame\n",
    "df_10plus = df[df['LOCATION'].isin(countries_10plus)].copy()\n",
    "\n",
    "# Check results\n",
    "print(f\"Filtered DataFrame shape: {df_10plus.shape}\")\n",
    "print(\"Countries included:\", sorted(df_10plus['LOCATION'].unique()))"
   ]
  },
  {
   "cell_type": "code",
   "execution_count": 32,
   "id": "a7b3a700",
   "metadata": {},
   "outputs": [
    {
     "name": "stdout",
     "output_type": "stream",
     "text": [
      "     LOCATION  TIME  PC_HEALTHXP  PC_GDP   USD_CAP  TOTAL_SPEND\n",
      "0         AUS  1971       15.992   0.726    33.990       439.73\n",
      "1         AUS  1972       15.091   0.685    34.184       450.44\n",
      "2         AUS  1973       15.117   0.681    37.956       507.85\n",
      "3         AUS  1974       14.771   0.754    45.338       622.17\n",
      "4         AUS  1975       11.849   0.682    44.363       616.34\n",
      "...       ...   ...          ...     ...       ...          ...\n",
      "1336      USA  2017       11.954   2.004  1200.769    390396.57\n",
      "1337      USA  2018       11.766   1.957  1229.266    401771.09\n",
      "1338      USA  2019       11.767   1.961  1277.032    419287.86\n",
      "1339      USA  2020       11.037   2.070  1315.218    436030.19\n",
      "1340      USA  2021       11.743   2.039  1432.309    475596.74\n",
      "\n",
      "[1321 rows x 6 columns]\n"
     ]
    }
   ],
   "source": [
    "print(df_10plus)"
   ]
  },
  {
   "cell_type": "code",
   "execution_count": 33,
   "id": "5e0548e0",
   "metadata": {},
   "outputs": [],
   "source": [
    "# Load population data from DataHub\n",
    "pop_url = \"https://datahub.io/core/population/_r/-/data/population.csv\"\n",
    "pop = pd.read_csv(pop_url)"
   ]
  },
  {
   "cell_type": "code",
   "execution_count": 34,
   "id": "e15498d2",
   "metadata": {},
   "outputs": [
    {
     "name": "stdout",
     "output_type": "stream",
     "text": [
      "Index(['Country Name', 'Country Code', 'Year', 'Value'], dtype='object')\n"
     ]
    }
   ],
   "source": [
    "# Inspect columns (uncomment to verify)\n",
    "print(pop.columns)"
   ]
  },
  {
   "cell_type": "code",
   "execution_count": 35,
   "id": "63d499eb",
   "metadata": {},
   "outputs": [],
   "source": [
    "#Rename to match df_10plus\n",
    "pop = pop.rename(columns={\n",
    "    \"Country Code\": \"LOCATION\",\n",
    "    \"Year\": \"TIME\",\n",
    "    \"Value\": \"POPULATION\"\n",
    "})"
   ]
  },
  {
   "cell_type": "code",
   "execution_count": 36,
   "id": "85a50a2e",
   "metadata": {},
   "outputs": [],
   "source": [
    "df_with_pop = df_10plus.merge(\n",
    "    pop[[\"LOCATION\", \"TIME\", \"POPULATION\"]],\n",
    "    on=[\"LOCATION\", \"TIME\"],\n",
    "    how=\"left\"\n",
    ")"
   ]
  },
  {
   "cell_type": "code",
   "execution_count": 37,
   "id": "95f182a4",
   "metadata": {},
   "outputs": [
    {
     "name": "stdout",
     "output_type": "stream",
     "text": [
      "Rows missing population after merge: 0\n"
     ]
    }
   ],
   "source": [
    "#Check for missing population entries\n",
    "missing_count = df_with_pop[\"POPULATION\"].isnull().sum()\n",
    "print(f\"Rows missing population after merge: {missing_count}\")"
   ]
  },
  {
   "cell_type": "code",
   "execution_count": 38,
   "id": "4fbd6b87",
   "metadata": {},
   "outputs": [
    {
     "name": "stdout",
     "output_type": "stream",
     "text": [
      "  LOCATION  TIME  PC_HEALTHXP  PC_GDP  USD_CAP  TOTAL_SPEND  POPULATION\n",
      "0      AUS  1971       15.992   0.726   33.990       439.73  12937000.0\n",
      "1      AUS  1972       15.091   0.685   34.184       450.44  13177000.0\n",
      "2      AUS  1973       15.117   0.681   37.956       507.85  13380000.0\n",
      "3      AUS  1974       14.771   0.754   45.338       622.17  13723000.0\n",
      "4      AUS  1975       11.849   0.682   44.363       616.34  13893000.0\n"
     ]
    }
   ],
   "source": [
    "#Preview merged DataFrame\n",
    "print(df_with_pop.head())"
   ]
  },
  {
   "cell_type": "code",
   "execution_count": 39,
   "id": "67bdcd68",
   "metadata": {},
   "outputs": [
    {
     "name": "stdout",
     "output_type": "stream",
     "text": [
      "Correlation Matrix:\n",
      "             PC_HEALTHXP    PC_GDP   USD_CAP  TOTAL_SPEND  POPULATION\n",
      "PC_HEALTHXP     1.000000  0.719599  0.110652    -0.056234   -0.017329\n",
      "PC_GDP          0.719599  1.000000  0.643487     0.307879    0.232212\n",
      "USD_CAP         0.110652  0.643487  1.000000     0.529583    0.320995\n",
      "TOTAL_SPEND    -0.056234  0.307879  0.529583     1.000000    0.845141\n",
      "POPULATION     -0.017329  0.232212  0.320995     0.845141    1.000000\n"
     ]
    }
   ],
   "source": [
    "# Correlation Matrix\n",
    "corr = df_with_pop[['PC_HEALTHXP', 'PC_GDP', 'USD_CAP', 'TOTAL_SPEND',\"POPULATION\"]].corr()\n",
    "print(\"Correlation Matrix:\")\n",
    "print(corr.to_string())"
   ]
  },
  {
   "cell_type": "code",
   "execution_count": 40,
   "id": "fbc272c5",
   "metadata": {},
   "outputs": [
    {
     "name": "stdout",
     "output_type": "stream",
     "text": [
      "Years sorted by number of countries reporting:\n",
      "TIME\n",
      "2019    38\n",
      "2018    38\n",
      "2017    38\n",
      "2016    38\n",
      "2015    38\n",
      "2013    38\n",
      "2014    38\n",
      "2020    38\n",
      "2012    37\n",
      "2011    36\n",
      "2006    35\n",
      "2021    35\n",
      "2007    35\n",
      "2008    34\n",
      "2005    34\n",
      "2004    34\n",
      "2010    34\n",
      "2009    33\n",
      "2003    31\n",
      "2002    27\n",
      "1990    25\n",
      "2000    25\n",
      "1996    25\n",
      "1994    25\n",
      "2001    25\n",
      "1995    25\n",
      "1997    24\n",
      "1999    24\n",
      "1992    23\n",
      "1991    23\n",
      "1993    23\n",
      "1989    21\n",
      "1988    21\n",
      "1998    21\n",
      "1985    20\n",
      "1987    20\n",
      "1984    19\n",
      "1980    19\n",
      "1986    19\n",
      "1981    18\n",
      "1983    18\n",
      "1982    18\n",
      "1978    14\n",
      "1976    14\n",
      "1977    14\n",
      "1979    14\n",
      "1975    13\n",
      "1971    11\n",
      "1970    11\n",
      "1974    11\n",
      "1972    11\n",
      "1973    11\n",
      "2022     7\n",
      "\n",
      "Maximum number of countries reporting: 38\n",
      "Year(s) with most countries reporting: [2019, 2018, 2017, 2016, 2015, 2013, 2014, 2020]\n"
     ]
    }
   ],
   "source": [
    "# Compute the number of unique countries reporting per year\n",
    "country_counts = df_with_pop.groupby('TIME')['LOCATION'].nunique().rename('country_count')\n",
    "\n",
    "# Sort years by descending count\n",
    "counts_sorted = country_counts.sort_values(ascending=False)\n",
    "\n",
    "# Identify the year(s) with the maximum number of reporting countries\n",
    "max_count = counts_sorted.max()\n",
    "years_most_reported = counts_sorted[counts_sorted == max_count].index.tolist()\n",
    "\n",
    "# Display the sorted counts and the top reporting year(s)\n",
    "print(\"Years sorted by number of countries reporting:\")\n",
    "print(counts_sorted.to_string())\n",
    "print(f\"\\nMaximum number of countries reporting: {max_count}\")\n",
    "print(f\"Year(s) with most countries reporting: {years_most_reported}\")"
   ]
  },
  {
   "cell_type": "code",
   "execution_count": 41,
   "id": "711e6215",
   "metadata": {},
   "outputs": [
    {
     "name": "stdout",
     "output_type": "stream",
     "text": [
      "Year range in filtered DataFrame: 2011 to 2020\n",
      "Filtered DataFrame shape: (377, 7)\n",
      "Unique years: [np.int64(2011), np.int64(2012), np.int64(2013), np.int64(2014), np.int64(2015), np.int64(2016), np.int64(2017), np.int64(2018), np.int64(2019), np.int64(2020)]\n",
      "Countries included: ['AUS' 'AUT' 'BEL' 'BGR' 'CAN' 'CHE' 'CRI' 'CYP' 'CZE' 'DEU' 'DNK' 'ESP'\n",
      " 'EST' 'FIN' 'FRA' 'GBR' 'GRC' 'HRV' 'HUN' 'IRL' 'ISL' 'ISR' 'ITA' 'JPN'\n",
      " 'KOR' 'LTU' 'LUX' 'LVA' 'MEX' 'NLD' 'NOR' 'POL' 'PRT' 'ROU' 'SVK' 'SVN'\n",
      " 'SWE' 'USA']\n"
     ]
    }
   ],
   "source": [
    "# Filter to the years 2011 through 2020 inclusive\n",
    "df_2011_2020 = df_with_pop[(df_with_pop['TIME'] >= 2011) & (df_with_pop['TIME'] <= 2020)].copy()\n",
    "\n",
    "# Verify the range and size\n",
    "print(f\"Year range in filtered DataFrame: {df_2011_2020['TIME'].min()} to {df_2011_2020['TIME'].max()}\")\n",
    "print(f\"Filtered DataFrame shape: {df_2011_2020.shape}\")\n",
    "\n",
    "# List unique years to confirm\n",
    "print(\"Unique years:\", sorted(df_2011_2020['TIME'].unique()))\n",
    "print(\"Countries included:\",(df_2011_2020['LOCATION'].unique()))"
   ]
  },
  {
   "cell_type": "code",
   "execution_count": 42,
   "id": "a0f42f50",
   "metadata": {},
   "outputs": [
    {
     "name": "stderr",
     "output_type": "stream",
     "text": [
      "C:\\Users\\bmanna\\AppData\\Local\\Temp\\ipykernel_10528\\473226752.py:15: FutureWarning: The behavior of DataFrame.idxmax with all-NA values, or any-NA and skipna=False, is deprecated. In a future version this will raise ValueError\n",
      "  df['HIGHEST_GROWTH_METRIC'] = df[[f'{col}_GROWTH' for col in growth_columns]].idxmax(axis=1)\n"
     ]
    }
   ],
   "source": [
    "# Save the df_2011_2020 DataFrame to a CSV on your local machine\n",
    "#output_path = r'C:\\Users\\alebe\\DSI\\Pharma_Spending_Pattern\\Cleaned_data_with_population.csv'\n",
    "#df_2011_2020.to_csv(output_path, index=False)\n",
    "\n",
    "df = df_2011_2020\n",
    "\n",
    "# Sort by LOCATION and TIME for correct growth calculation\n",
    "df.sort_values(['LOCATION', 'TIME'], inplace=True)\n",
    "# Calculate growth rates for selected columns\n",
    "growth_columns = ['PC_HEALTHXP', 'PC_GDP', 'USD_CAP','TOTAL_SPEND','POPULATION']\n",
    "for col in growth_columns:\n",
    "    df[f'{col}_GROWTH'] = df.groupby('LOCATION')[col].pct_change()\n",
    "\n",
    "# Identify the column with the highest growth each year for each location\n",
    "df['HIGHEST_GROWTH_METRIC'] = df[[f'{col}_GROWTH' for col in growth_columns]].idxmax(axis=1)\n",
    "df['HIGHEST_GROWTH_VALUE'] = df[[f'{col}_GROWTH' for col in growth_columns]].max(axis=1)\n",
    "\n",
    "# Optional: clean the metric name (remove \"_GROWTH\" suffix)\n",
    "df['HIGHEST_GROWTH_METRIC'] = df['HIGHEST_GROWTH_METRIC'].str.replace('_GROWTH', '')\n",
    "\n",
    "# Save the result to csv\n",
    "df.to_csv('Cleaned_data_with_population.csv', index=False)\n"
   ]
  }
 ],
 "metadata": {
  "kernelspec": {
   "display_name": "dsi_teilnehmer",
   "language": "python",
   "name": "python3"
  },
  "language_info": {
   "codemirror_mode": {
    "name": "ipython",
    "version": 3
   },
   "file_extension": ".py",
   "mimetype": "text/x-python",
   "name": "python",
   "nbconvert_exporter": "python",
   "pygments_lexer": "ipython3",
   "version": "3.9.20"
  }
 },
 "nbformat": 4,
 "nbformat_minor": 5
}
